{
 "cells": [
  {
   "cell_type": "code",
   "execution_count": 2,
   "metadata": {},
   "outputs": [
    {
     "name": "stdout",
     "output_type": "stream",
     "text": [
      "/home/jupyter-kagone/files/cloud-veg-et/00-notebooks/00-tony\r\n"
     ]
    }
   ],
   "source": [
    "! pwd"
   ]
  },
  {
   "cell_type": "code",
   "execution_count": 6,
   "metadata": {},
   "outputs": [
    {
     "name": "stdout",
     "output_type": "stream",
     "text": [
      "00-collaborate.ipynb\t DRB.dbf  Makefile\t      dev-et-data\r\n",
      "00-viz-img-tony.ipynb\t DRB.prj  Readme.md\t      lilDRB_temp\r\n",
      "01-tony-unit-test.ipynb  DRB.sbn  api.svg\t      sample_config\r\n",
      "40N-80E\t\t\t DRB.sbx  api_veget.py\t      testrunner.ipynb\r\n",
      "DELA_TMP\t\t DRB.shp  delaware_20_config  veget.svg\r\n",
      "DRB.cpg\t\t\t DRB.shx  delaware_config\r\n"
     ]
    }
   ],
   "source": [
    "!ls /home/jupyter-kagone/files/cloud-veg-et/veget/api_veget/"
   ]
  },
  {
   "cell_type": "code",
   "execution_count": 13,
   "metadata": {},
   "outputs": [],
   "source": [
    "import shapefile\n",
    "shp_dir = '/home/jupyter-kagone/files/cloud-veg-et/veget/api_veget'\n",
    "shp = shp_dir + '/' + 'DRB.shp'\n",
    "dbf = shp_dir + '/' + 'DRB.dbf'\n",
    "myshp = open(shp, \"rb\")\n",
    "mydbf = open(dbf, \"rb\")\n",
    "r = shapefile.Reader(shp=myshp, dbf=mydbf)"
   ]
  },
  {
   "cell_type": "code",
   "execution_count": 16,
   "metadata": {},
   "outputs": [
    {
     "data": {
      "text/plain": [
       "[-77.01679746910327, 37.026104773396696, -72.98123160321506, 43.507756553278455]"
      ]
     },
     "execution_count": 16,
     "metadata": {},
     "output_type": "execute_result"
    }
   ],
   "source": [
    "bounds = r.bbox\n",
    "\n",
    "bounds"
   ]
  },
  {
   "cell_type": "code",
   "execution_count": 17,
   "metadata": {},
   "outputs": [],
   "source": [
    "def make_poly(bounds):\n",
    "   \n",
    "    coord_list = []\n",
    "    ul_lon_lat = [bounds[0],bounds[3]]\n",
    "    ur_lon_lat = [bounds[2],bounds[3]]\n",
    "    lr_lon_lat = [bounds[2],bounds[1]]\n",
    "    ll_lon_lat = [bounds[0],bounds[1]]\n",
    "    print (ul_lon_lat)\n",
    "    coord_list.append(ul_lon_lat)\n",
    "    print (ur_lon_lat)\n",
    "    coord_list.append(ur_lon_lat)\n",
    "    print (lr_lon_lat)\n",
    "    coord_list.append(lr_lon_lat)\n",
    "    print (ll_lon_lat)\n",
    "    coord_list.append(ll_lon_lat)\n",
    "    print (ul_lon_lat)\n",
    "    coord_list.append(ul_lon_lat)\n",
    "    return(coord_list)"
   ]
  },
  {
   "cell_type": "code",
   "execution_count": 18,
   "metadata": {},
   "outputs": [
    {
     "name": "stdout",
     "output_type": "stream",
     "text": [
      "[-77.01679746910327, 43.507756553278455]\n",
      "[-72.98123160321506, 43.507756553278455]\n",
      "[-72.98123160321506, 37.026104773396696]\n",
      "[-77.01679746910327, 37.026104773396696]\n",
      "[-77.01679746910327, 43.507756553278455]\n"
     ]
    }
   ],
   "source": [
    "coords = make_poly(bounds)"
   ]
  },
  {
   "cell_type": "code",
   "execution_count": 19,
   "metadata": {},
   "outputs": [],
   "source": [
    "polycs = []\n",
    "polycs.append(coords)"
   ]
  },
  {
   "cell_type": "code",
   "execution_count": 20,
   "metadata": {},
   "outputs": [],
   "source": [
    "import json\n",
    "geos = []\n",
    "for polyc in polycs:\n",
    "    poly = {\n",
    "        'type': 'Feature',\n",
    "        'properties': {},\n",
    "        'geometry': {\n",
    "            'type': 'Polygon',\n",
    "            'coordinates': [polyc]\n",
    "        }\n",
    "    }\n",
    "    geos.append(poly)\n",
    "\n",
    "geometries = {\n",
    "    'type': 'FeatureCollection',\n",
    "    'features': geos,\n",
    "}\n",
    "\n",
    "geo_str = json.dumps(geometries)"
   ]
  },
  {
   "cell_type": "code",
   "execution_count": 21,
   "metadata": {},
   "outputs": [
    {
     "data": {
      "text/plain": [
       "'{\"type\": \"FeatureCollection\", \"features\": [{\"type\": \"Feature\", \"properties\": {}, \"geometry\": {\"type\": \"Polygon\", \"coordinates\": [[[-77.01679746910327, 43.507756553278455], [-72.98123160321506, 43.507756553278455], [-72.98123160321506, 37.026104773396696], [-77.01679746910327, 37.026104773396696], [-77.01679746910327, 43.507756553278455]]]}}]}'"
      ]
     },
     "execution_count": 21,
     "metadata": {},
     "output_type": "execute_result"
    }
   ],
   "source": [
    "geo_str"
   ]
  },
  {
   "cell_type": "code",
   "execution_count": 25,
   "metadata": {},
   "outputs": [
    {
     "data": {
      "text/plain": [
       "[-77.01679746910327, 37.026104773396696, -72.98123160321506, 43.507756553278455]"
      ]
     },
     "execution_count": 25,
     "metadata": {},
     "output_type": "execute_result"
    }
   ],
   "source": [
    "bounds"
   ]
  },
  {
   "cell_type": "code",
   "execution_count": 39,
   "metadata": {},
   "outputs": [],
   "source": [
    "new_ul_lat = bounds[1]/2 + bounds[3]/2.0\n",
    "new_ul_lon = bounds[0]/2 + bounds[2]/2\n",
    "bounds_ul = [bounds[0],new_ul_lat,new_ul_lon,bounds[3]]"
   ]
  },
  {
   "cell_type": "code",
   "execution_count": 40,
   "metadata": {},
   "outputs": [
    {
     "data": {
      "text/plain": [
       "[-77.01679746910327,\n",
       " 40.266930663337575,\n",
       " -74.99901453615917,\n",
       " 43.507756553278455]"
      ]
     },
     "execution_count": 40,
     "metadata": {},
     "output_type": "execute_result"
    }
   ],
   "source": [
    "bounds_ul"
   ]
  },
  {
   "cell_type": "code",
   "execution_count": 41,
   "metadata": {},
   "outputs": [
    {
     "name": "stdout",
     "output_type": "stream",
     "text": [
      "[-77.01679746910327, 43.507756553278455]\n",
      "[-74.99901453615917, 43.507756553278455]\n",
      "[-74.99901453615917, 40.266930663337575]\n",
      "[-77.01679746910327, 40.266930663337575]\n",
      "[-77.01679746910327, 43.507756553278455]\n"
     ]
    }
   ],
   "source": [
    "coords_ul = make_poly(bounds_ul)"
   ]
  },
  {
   "cell_type": "code",
   "execution_count": 42,
   "metadata": {},
   "outputs": [],
   "source": [
    "polycs = []\n",
    "polycs.append(coords_ul)"
   ]
  },
  {
   "cell_type": "code",
   "execution_count": 43,
   "metadata": {},
   "outputs": [],
   "source": [
    "import json\n",
    "geos = []\n",
    "for polyc in polycs:\n",
    "    poly = {\n",
    "        'type': 'Feature',\n",
    "        'properties': {},\n",
    "        'geometry': {\n",
    "            'type': 'Polygon',\n",
    "            'coordinates': [polyc]\n",
    "        }\n",
    "    }\n",
    "    geos.append(poly)\n",
    "\n",
    "geometries = {\n",
    "    'type': 'FeatureCollection',\n",
    "    'features': geos,\n",
    "}\n",
    "\n",
    "geo_str = json.dumps(geometries)"
   ]
  },
  {
   "cell_type": "code",
   "execution_count": 44,
   "metadata": {},
   "outputs": [
    {
     "data": {
      "text/plain": [
       "'{\"type\": \"FeatureCollection\", \"features\": [{\"type\": \"Feature\", \"properties\": {}, \"geometry\": {\"type\": \"Polygon\", \"coordinates\": [[[-77.01679746910327, 43.507756553278455], [-74.99901453615917, 43.507756553278455], [-74.99901453615917, 40.266930663337575], [-77.01679746910327, 40.266930663337575], [-77.01679746910327, 43.507756553278455]]]}}]}'"
      ]
     },
     "execution_count": 44,
     "metadata": {},
     "output_type": "execute_result"
    }
   ],
   "source": [
    "geo_str"
   ]
  },
  {
   "cell_type": "code",
   "execution_count": null,
   "metadata": {},
   "outputs": [],
   "source": []
  }
 ],
 "metadata": {
  "kernelspec": {
   "display_name": "Python 3",
   "language": "python",
   "name": "python3"
  },
  "language_info": {
   "codemirror_mode": {
    "name": "ipython",
    "version": 3
   },
   "file_extension": ".py",
   "mimetype": "text/x-python",
   "name": "python",
   "nbconvert_exporter": "python",
   "pygments_lexer": "ipython3",
   "version": "3.7.3"
  }
 },
 "nbformat": 4,
 "nbformat_minor": 4
}

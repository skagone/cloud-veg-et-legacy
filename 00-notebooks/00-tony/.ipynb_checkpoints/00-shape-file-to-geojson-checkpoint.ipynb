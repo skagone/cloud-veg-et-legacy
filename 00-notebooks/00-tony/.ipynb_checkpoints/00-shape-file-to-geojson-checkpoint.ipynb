{
 "cells": [
  {
   "cell_type": "code",
   "execution_count": 2,
   "metadata": {},
   "outputs": [
    {
     "name": "stdout",
     "output_type": "stream",
     "text": [
      "/home/jupyter-kagone/files/cloud-veg-et/00-notebooks/00-tony\r\n"
     ]
    }
   ],
   "source": [
    "! pwd"
   ]
  },
  {
   "cell_type": "code",
   "execution_count": 6,
   "metadata": {},
   "outputs": [
    {
     "name": "stdout",
     "output_type": "stream",
     "text": [
      "00-collaborate.ipynb\t DRB.dbf  Makefile\t      dev-et-data\r\n",
      "00-viz-img-tony.ipynb\t DRB.prj  Readme.md\t      lilDRB_temp\r\n",
      "01-tony-unit-test.ipynb  DRB.sbn  api.svg\t      sample_config\r\n",
      "40N-80E\t\t\t DRB.sbx  api_veget.py\t      testrunner.ipynb\r\n",
      "DELA_TMP\t\t DRB.shp  delaware_20_config  veget.svg\r\n",
      "DRB.cpg\t\t\t DRB.shx  delaware_config\r\n"
     ]
    }
   ],
   "source": [
    "!ls /home/jupyter-kagone/files/cloud-veg-et/veget/api_veget/"
   ]
  },
  {
   "cell_type": "code",
   "execution_count": 9,
   "metadata": {},
   "outputs": [
    {
     "ename": "ModuleNotFoundError",
     "evalue": "No module named 'shapefile'",
     "output_type": "error",
     "traceback": [
      "\u001b[0;31m---------------------------------------------------------------------------\u001b[0m",
      "\u001b[0;31mModuleNotFoundError\u001b[0m                       Traceback (most recent call last)",
      "\u001b[0;32m<ipython-input-9-91016e25d8ed>\u001b[0m in \u001b[0;36m<module>\u001b[0;34m\u001b[0m\n\u001b[0;32m----> 1\u001b[0;31m \u001b[0;32mimport\u001b[0m \u001b[0mshapefile\u001b[0m\u001b[0;34m\u001b[0m\u001b[0;34m\u001b[0m\u001b[0m\n\u001b[0m\u001b[1;32m      2\u001b[0m \u001b[0mmyshp\u001b[0m \u001b[0;34m=\u001b[0m \u001b[0mopen\u001b[0m\u001b[0;34m(\u001b[0m\u001b[0;34m\"shapefiles/blockgroups.shp\"\u001b[0m\u001b[0;34m,\u001b[0m \u001b[0;34m\"rb\"\u001b[0m\u001b[0;34m)\u001b[0m\u001b[0;34m\u001b[0m\u001b[0;34m\u001b[0m\u001b[0m\n\u001b[1;32m      3\u001b[0m \u001b[0mmydbf\u001b[0m \u001b[0;34m=\u001b[0m \u001b[0mopen\u001b[0m\u001b[0;34m(\u001b[0m\u001b[0;34m\"shapefiles/blockgroups.dbf\"\u001b[0m\u001b[0;34m,\u001b[0m \u001b[0;34m\"rb\"\u001b[0m\u001b[0;34m)\u001b[0m\u001b[0;34m\u001b[0m\u001b[0;34m\u001b[0m\u001b[0m\n\u001b[1;32m      4\u001b[0m \u001b[0mr\u001b[0m \u001b[0;34m=\u001b[0m \u001b[0mshapefile\u001b[0m\u001b[0;34m.\u001b[0m\u001b[0mReader\u001b[0m\u001b[0;34m(\u001b[0m\u001b[0mshp\u001b[0m\u001b[0;34m=\u001b[0m\u001b[0mmyshp\u001b[0m\u001b[0;34m,\u001b[0m \u001b[0mdbf\u001b[0m\u001b[0;34m=\u001b[0m\u001b[0mmydbf\u001b[0m\u001b[0;34m)\u001b[0m\u001b[0;34m\u001b[0m\u001b[0;34m\u001b[0m\u001b[0m\n",
      "\u001b[0;31mModuleNotFoundError\u001b[0m: No module named 'shapefile'"
     ]
    }
   ],
   "source": [
    "import shapefile\n",
    "myshp = open(\"shapefiles/blockgroups.shp\", \"rb\")\n",
    "mydbf = open(\"shapefiles/blockgroups.dbf\", \"rb\")\n",
    "r = shapefile.Reader(shp=myshp, dbf=mydbf)"
   ]
  },
  {
   "cell_type": "code",
   "execution_count": 10,
   "metadata": {},
   "outputs": [
    {
     "name": "stdout",
     "output_type": "stream",
     "text": [
      "Collecting pyshp\n",
      "\u001b[?25l  Downloading https://files.pythonhosted.org/packages/27/16/3bf15aa864fb77845fab8007eda22c2bd67bd6c1fd13496df452c8c43621/pyshp-2.1.0.tar.gz (215kB)\n",
      "\u001b[K     |████████████████████████████████| 225kB 4.0MB/s eta 0:00:01\n",
      "\u001b[?25hBuilding wheels for collected packages: pyshp\n",
      "  Building wheel for pyshp (setup.py) ... \u001b[?25ldone\n",
      "\u001b[?25h  Stored in directory: /home/jupyter-kagone/.cache/pip/wheels/a6/0c/de/321b5192ad416b328975a2f0385f72c64db4656501eba7cc1a\n",
      "Successfully built pyshp\n",
      "Installing collected packages: pyshp\n",
      "Successfully installed pyshp-2.1.0\n"
     ]
    }
   ],
   "source": [
    "! pip install --user pyshp"
   ]
  },
  {
   "cell_type": "code",
   "execution_count": null,
   "metadata": {},
   "outputs": [],
   "source": []
  }
 ],
 "metadata": {
  "kernelspec": {
   "display_name": "Python 3",
   "language": "python",
   "name": "python3"
  },
  "language_info": {
   "codemirror_mode": {
    "name": "ipython",
    "version": 3
   },
   "file_extension": ".py",
   "mimetype": "text/x-python",
   "name": "python",
   "nbconvert_exporter": "python",
   "pygments_lexer": "ipython3",
   "version": "3.7.3"
  }
 },
 "nbformat": 4,
 "nbformat_minor": 4
}

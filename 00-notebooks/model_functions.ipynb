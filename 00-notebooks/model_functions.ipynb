{
 "cells": [
  {
   "cell_type": "markdown",
   "metadata": {},
   "source": [
    "## Module: VegET functions\n",
    "- Created on: April 2020\n",
    "- VERSION: numpy, gdal, python 3\n",
    "- AUTHOR: Stefanie Kagone, Gabe Parrish, Tony Butzer"
   ]
  },
  {
   "cell_type": "code",
   "execution_count": 1,
   "metadata": {},
   "outputs": [
    {
     "name": "stdout",
     "output_type": "stream",
     "text": [
      "[[153  43 435 435]\n",
      " [153  43 435 435]]\n",
      "0.35\n"
     ]
    }
   ],
   "source": [
    "import numpy as np\n",
    "\n",
    "# === global variables ===\n",
    "start_year = 2013\n",
    "end_year = 2016\n",
    "DOY = 123\n",
    "i = 122\n",
    "\n",
    "# array value of NDVI for testing\n",
    "ndvi = np.array([[0.25, 0.27, 0.7, 0.28],[0.26, 0.7, 0.7, 0.25]])\n",
    "pet = np.array([[1.22, 1.22, 1.22, 1.22],[1.22, 1.22, 1.22, 1.22]])\n",
    "ppt = np.array([[0.0, 0.0, 12.0, 0.0],[0.0, 0.0, 3.0, 0.0]])\n",
    "tavg = np.array([[0.6, 0.6, 0.7, 0.6],[10, -2, 8, 6]])\n",
    "tmin = np.array([[-3.6, -3.6, -3.6, -3.6],[5, -4, 2, 5]])\n",
    "tmax = np.array([[4.1, 4.1, 4.1, 4.1],[15, 2, 14, 7]])\n",
    "\n",
    "interception = np.array([[14.5, 18, 18, 14],[14.5, 18, 18, 14]])\n",
    "whc = np.array([[71, 43, 178, .2],[0.1, 0.7, 0.7, .2]])\n",
    "field_capacity = np.array([[126, 78, 277, 277],[126, 78, 277, 277]])\n",
    "saturation = np.array([[153, 43, 435, 435],[153, 43, 435, 435]])\n",
    "\n",
    "yest_snwpck = np.array([[0.1, 0.7, 0.7, .2],[0.1, 0.7, 0.7, .2]])\n",
    "yest_swf = np.array([[0.1, 0.7, 0.7, .2],[0.1, 0.7, 0.7, .2]])\n",
    "\n",
    "print(saturation)\n",
    "\n",
    "rf_low_thresh_temp = 0\n",
    "rf_high_thresh_temp = 6\n",
    "rf_value = 0.167\n",
    "\n",
    "melt_factor = 0.06\n",
    "\n",
    "varA = 1.25\n",
    "varB = 0.2 \n",
    "\n",
    "dc_coeff = 0.65  # drainage coefficient\n",
    "rf_coeff = 1 - dc_coeff  # runoff coefficient\n",
    "print(rf_coeff)"
   ]
  },
  {
   "cell_type": "markdown",
   "metadata": {},
   "source": [
    "### Function: inital soil water\n",
    "\n",
    "1. precipitation bias corrected (if required)\n",
    "2. effective precip\n",
    "3. intercepted precip\n",
    "4. snow melt factor\n",
    "5. RAIN\n",
    "6. SWE\n",
    "7. snowmelt\n",
    "8. snow pack\n",
    "9. intial soil water  = previous day soil water balance + RAIN + snow_melt"
   ]
  },
  {
   "cell_type": "code",
   "execution_count": 2,
   "metadata": {},
   "outputs": [
    {
     "name": "stdout",
     "output_type": "stream",
     "text": [
      "[[ 0.5466  0.5466  0.5466  0.5466]\n",
      " [ 0.     -0.12    0.      2.82  ]]\n",
      "[[ 0.5466  0.5466  0.5466  0.5466]\n",
      " [ 0.     -0.12    0.      2.82  ]]\n",
      "[[ 0.2       1.2466   -7.462784  0.4     ]\n",
      " [ 0.2       0.58      3.86      0.4     ]]\n"
     ]
    }
   ],
   "source": [
    "def soil_water(i, ppt, interception, tmin, tmax, tavg, melt_factor, rf_high_thresh_temp, rf_low_thresh_temp, yest_swf=None,\n",
    "                    yest_snwpck=None):\n",
    "\n",
    "\n",
    "    # Effective PPT \n",
    "    effppt = ppt * (1 - (interception / 100.0))\n",
    "    \n",
    "    # Intercepted PPT\n",
    "    intcep = ppt * (interception / 100.0)\n",
    "    \n",
    "    # Snow pack\n",
    "    # melt rate\n",
    "    # Usage: Creates a melt rate value based on the relationship between max and min air temperatureto determine the snow melt and from there the snow pack extent\n",
    "#     tmin = ''\n",
    "#     tmax = ''\n",
    "    melt_rate = melt_factor * ((tmax*tmax)-(tmax-tmin))\n",
    "    # initialize the snow melt factor array\n",
    "    snow_melt_fac = np.zeros(ndvi.shape)\n",
    "    # Where snomel it <= the high threshold temp set it equal to the melth factor r\n",
    "    snow_melt_fac[tavg <= rf_high_thresh_temp] = melt_rate[tavg <= rf_high_thresh_temp] \n",
    "    # otherwise make it 0  -- Operation happens in-place like i += x --\n",
    "    snow_melt_fac[tavg > rf_high_thresh_temp] = 0\n",
    "    print(snow_melt_fac)\n",
    "    \n",
    "    print(snow_melt_fac)\n",
    "    # np.where(tavg <= rf_high_tresh_temp, 0, melt_rate)\n",
    "    \n",
    "    if i == 0:\n",
    "        # rain fraction\n",
    "        # Usage: Creates a fraction value based on average temperature that determines if the incoming precipiation is falling as rain, slied, or snow.\n",
    "        rain_frac[tavg <= rf_low_thresh_temp] = 0\n",
    "        rain_frac[tavg >= rf_high_thresh_temp] = 1\n",
    "        temp_diff_boolean = (tavg < rf_high_thresh_temp) | (tavg > rf_low_thresh_temp)\n",
    "        rain_frac[temp_diff_boolean] = rf_value[temp_diff_boolean] * (tavg[temp_diff_boolean] - rf_high_thresh_temp)\n",
    "        \n",
    "        RAIN = rain_frac * effppt\n",
    "        SWE = np.zeros(ndvi.shape)  # inital snowpack raster with only 0 values \n",
    "        snow_melt = SWE\n",
    "        SNOW_pack = np.zeros(ndvi.shape)  # inital snowpack raster with only 0 values\n",
    "        SWi = (whc * 0.5) + effppt + snow_melt\n",
    "    else:\n",
    "        # rain fraction - initialize the rain fraction array\n",
    "        rain_frac = np.zeros(ndvi.shape)\n",
    "        # Usage: Creates a fraction value based on average temperature that determines if the incoming precipiation is falling as rain, slied, or snow.\n",
    "        rain_frac[tavg <= rf_low_thresh_temp] = 0\n",
    "        rain_frac[tavg >= rf_high_thresh_temp] = 1\n",
    "        temp_diff_boolean = (tavg < rf_high_thresh_temp) | (tavg > rf_low_thresh_temp)\n",
    "        rain_frac[temp_diff_boolean] = rf_value * (tavg[temp_diff_boolean] - rf_high_thresh_temp)\n",
    "        # rf = np.where(tavg <= rf_low_tresh_temp, 0, Con(ta >= rf_high_tresh_temp, 1, rf_value*(ta-rf_high_tresh_temp)))\n",
    "        \n",
    "        RAIN = rain_frac * effppt\n",
    "        SWE = (1 - rain_frac) * effppt\n",
    "        \n",
    "        #snow_melt = np.where(melt_rate <= (SWE + snowpacklist[-1]), melt_rate, (SWE + snowpacklist[-1]))\n",
    "        # initialize snow melt\n",
    "        snow_melt = np.zeros(ndvi.shape) # todo - should this be yesterdasy snowlment and be put in function call??\n",
    "        snow_melt_boolean = (melt_rate <= (SWE + yest_snwpck))\n",
    "        snow_melt[snow_melt_boolean] = melt_rate[snow_melt_boolean]\n",
    "        snow_melt_boolean2 = (melt_rate > (SWE + yest_snwpck))\n",
    "        snow_melt[snow_melt_boolean2] = SWE[snow_melt_boolean2] + yest_snwpck[snow_melt_boolean2]\n",
    "        \n",
    "        # re-initialize SNWpk array\n",
    "        SNWpk = np.zeros(ndvi.shape)\n",
    "        SNWpk1 = yest_snwpck + SWE - snow_melt\n",
    "        SNWpk[SNWpk1<0] = 0\n",
    "        SNWpk[SNWpk1>=0] = SNWpk1[SNWpk1 >=0]\n",
    "        # SNWpk = np.where(SNWpk1 < 0, 0, SNWpk1)\n",
    "        SWi = yest_swf + RAIN + snow_melt\n",
    "        print(SWi)\n",
    "    \n",
    "    \n",
    "    return SWi\n",
    "\n",
    "# When running the code in a separate function call you would hava a counter i and refer to yesterdays snowpach and swf as below\n",
    "# init_soul_water(a, b, c, d, snopack_arr_lst[i-1])        \n",
    "SWi = soil_water(i, ppt, interception, tmin, tmax, tavg, melt_factor, rf_high_thresh_temp, rf_low_thresh_temp, yest_swf, yest_snwpck)"
   ]
  },
  {
   "cell_type": "markdown",
   "metadata": {},
   "source": [
    "### Function: Surface runoff\n",
    "\n",
    "1. surface runoff\n",
    "2. deep drainage"
   ]
  },
  {
   "cell_type": "code",
   "execution_count": 3,
   "metadata": {},
   "outputs": [
    {
     "name": "stdout",
     "output_type": "stream",
     "text": [
      "[[False  True False False]\n",
      " [False  True False False]]\n",
      "[[False  True False False]\n",
      " [False  True False False]]\n",
      "[[  0.    -22.75    0.      0.13 ]\n",
      " [  0.065 -22.75    2.054   0.13 ]] [[ 0.    22.75   0.     0.07 ]\n",
      " [ 0.035 22.75   1.106  0.07 ]]\n"
     ]
    }
   ],
   "source": [
    "def surface_runoff(SWi, saturation, field_capacity, whc, rf_coeff, geodict=None):\n",
    "    # Deep Drainage\n",
    "    # DDrain occurs if SWi > WHC, amount of DDrain is SAT <> WHC with a maximum DDrain of SAT - WHC\n",
    "    sat_fc = saturation - field_capacity\n",
    "    rf1 = SWi - whc\n",
    "    # rf = np.where(rf1 < 0, 0, rf1)\n",
    "    rf = np.zeros(SWi.shape)\n",
    "    rf1_boolean = (rf1 >= 0)\n",
    "    rf[rf1_boolean] = rf1[rf1_boolean]\n",
    "    \n",
    "    #SRf = np.where(rf <= sat_fc, rf * rf_coeff, (rf - sat_fc) + rf_coeff * sat_fc)\n",
    "    SRf = np.zeros(SWi.shape)\n",
    "    SRf_boolean = (rf <= sat_fc)\n",
    "    SRf[SRf_boolean] = rf[SRf_boolean] * rf_coeff\n",
    "    SRf_boolean2 = (rf > sat_fc)\n",
    "    print(SRf_boolean2)\n",
    "    SRf_boolean2_test = ~SRf_boolean\n",
    "    print(SRf_boolean2_test)\n",
    "    SRf[SRf_boolean2] = (rf[SRf_boolean2] - sat_fc[SRf_boolean2]) + rf_coeff * sat_fc[SRf_boolean2]\n",
    "    \n",
    "    DDrain = rf - SRf\n",
    "    \n",
    "    # TODO - Use rasterio to get proj and geotransform and output the raster using the geodict\n",
    "    if geodict is not None:\n",
    "        # do stuff\n",
    "        pass\n",
    "    \n",
    "    return DDrain, SRf\n",
    "\n",
    "DDrain, SRf = surface_runoff(SWi, saturation, field_capacity, whc, rf_coeff)\n",
    "print(DDrain, SRf)"
   ]
  },
  {
   "cell_type": "markdown",
   "metadata": {},
   "source": [
    "### Function: Veg_ET\n",
    "\n",
    "1. Evapotranspiration\n",
    "2. final soil water (after PPT,ET,.. is accounted for)"
   ]
  },
  {
   "cell_type": "code",
   "execution_count": 9,
   "metadata": {},
   "outputs": [
    {
     "name": "stdout",
     "output_type": "stream",
     "text": [
      "[[0.      0.83485 0.      0.2    ]\n",
      " [0.1     0.      3.16    0.2    ]]\n",
      "[[ 0.2       0.41175  -7.462784  0.2     ]\n",
      " [ 0.1       0.58      0.7       0.2     ]] [[0.      0.83485 0.      0.2    ]\n",
      " [0.1     0.      3.16    0.2    ]]\n"
     ]
    }
   ],
   "source": [
    "def veg_et(varA, varB, pet, ndvi, SWi):\n",
    "    # etasw1A = np.zeros(ndvi.shape)\n",
    "    etasw1 = np.zeros(ndvi.shape)\n",
    "    etasw3 = np.zeros(ndvi.shape)\n",
    "    etasw4 = np.zeros(ndvi.shape)\n",
    "    etasw = np.zeros(ndvi.shape)\n",
    "    SWf = np.zeros(ndvi.shape)\n",
    "    \n",
    "    etasw1A = (varA * ndvi + varB) * pet\n",
    "    etasw1B = (varA * ndvi) * pet\n",
    "    \n",
    "    # etasw1 = ndvi > 0.4, etasw1A, etasw1B\n",
    "    ndvi_boolean = (ndvi > 0.4)\n",
    "    etasw1[ndvi_boolean] = etasw1A[ndvi_boolean]\n",
    "    etasw1[~ndvi_boolean] = etasw1B[~ndvi_boolean]\n",
    "    \n",
    "    etasw2 = (SWi / (0.5 * whc)) * etasw1\n",
    "    \n",
    "    # etasw3 = SWi > (0.5 * WHC), etasw1, etasw2\n",
    "    etasw3_boolean = (etasw3 > SWi)\n",
    "    etasw3[etasw3_boolean] = etasw1[etasw3_boolean]\n",
    "    etasw3[~etasw3_boolean] = etasw1[~etasw3_boolean]\n",
    "    \n",
    "    # etasw4 = etasw3 > SWi, SWi, etasw3\n",
    "    etasw4_boolean = (etasw3 > SWi)\n",
    "    etasw4[etasw4_boolean] = SWi[etasw4_boolean]\n",
    "    etasw4[~etasw4_boolean] = etasw3[~etasw4_boolean]\n",
    "    \n",
    "    # etasw = etasw4 > WHC, WHC, etasw4\n",
    "    etasw_boolean = (etasw4 > whc)\n",
    "    etasw[etasw_boolean] = whc[etasw_boolean]\n",
    "    etasw[~etasw_boolean] = etasw4[~etasw_boolean]\n",
    "    \n",
    "    SWf1 = SWi - etasw\n",
    "    \n",
    "    # SWf = SWi > WHC, (WHC - etasw), SWf1 < 0.0, 0.0, SWf1)\n",
    "    SWf_boolean = (SWi > whc)\n",
    "    SWf_boolean2 = (SWf1 < 0.0)\n",
    "    \n",
    "    SWf[SWf_boolean] = whc[SWf_boolean] - etasw[SWf_boolean]\n",
    "    SWf[SWf_boolean2] = 0\n",
    "    SWf[~SWf_boolean2] = SWf1[~SWf_boolean2]\n",
    "    print(SWf)\n",
    "    \n",
    "    return etasw, SWf\n",
    "    \n",
    "etasw, SWf = veg_et(varA, varB, pet, ndvi, SWi)    \n",
    "print(etasw, SWf)    "
   ]
  },
  {
   "cell_type": "code",
   "execution_count": 37,
   "metadata": {
    "scrolled": true
   },
   "outputs": [
    {
     "name": "stdout",
     "output_type": "stream",
     "text": [
      "model concept test\n",
      "transform | 0.00, 0.00,-77.02|\n",
      "| 0.00,-0.00, 43.51|\n",
      "| 0.00, 0.00, 1.00|\n",
      "EPSG:4326\n",
      "<class 'int'> 1938\n"
     ]
    }
   ],
   "source": [
    "# === Delaware River basin study area geo info for geotiff outputs ===\n",
    "\n",
    "geodict = {transform = '| 0.00, 0.00,-77.02 |', \n",
    "           coord_sys = 'EPSG:4326', \n",
    "           h = int(3124), w = int(1938)}\n",
    "\n",
    "# print('model concept test')\n",
    "# import os\n",
    "# import numpy as np\n",
    "# import rasterio\n",
    "# from matplotlib import pyplot as pl\n",
    "\n",
    "# ds = rasterio.open(testfile)\n",
    "\n",
    "# print('transform', ds.transform)\n",
    "# print(ds.crs)\n",
    "# print(type(ds.height), ds.width)\n",
    "# band1 = ds.read(1)\n",
    "# with rasterio.open('test_tif.tif', 'w', driver='GTiff', height=ds.height, width=ds.width, \n",
    "#                        count=1, dtype='float32', crs=ds.crs, transform=ds.transform) as wrast:\n",
    "#     wrast.write(band1, indexes=1)\n",
    "# #     write(supervised, indexes=1)\n",
    "    \n",
    "    \n",
    "    \n"
   ]
  },
  {
   "cell_type": "code",
   "execution_count": null,
   "metadata": {},
   "outputs": [],
   "source": []
  }
 ],
 "metadata": {
  "kernelspec": {
   "display_name": "Python 3",
   "language": "python",
   "name": "python3"
  },
  "language_info": {
   "codemirror_mode": {
    "name": "ipython",
    "version": 3
   },
   "file_extension": ".py",
   "mimetype": "text/x-python",
   "name": "python",
   "nbconvert_exporter": "python",
   "pygments_lexer": "ipython3",
   "version": "3.7.3"
  }
 },
 "nbformat": 4,
 "nbformat_minor": 4
}

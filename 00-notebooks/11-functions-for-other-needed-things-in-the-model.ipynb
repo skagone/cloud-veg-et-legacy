{
 "cells": [
  {
   "cell_type": "markdown",
   "metadata": {},
   "source": [
    "### Functions for other stuff like leap year, DOY, tavg\n",
    "\n",
    "- mostly taken from Mike's script"
   ]
  },
  {
   "cell_type": "code",
   "execution_count": null,
   "metadata": {},
   "outputs": [],
   "source": [
    "def get_tavg(year,day_index):\n",
    "    tmax = get_param_one_day(year,'tmax',day_index)\n",
    "    tmin = get_param_one_day(year, 'tmin', day_index)\n",
    "    tavg = (tmax + tmin) /2\n",
    "    return tavg,tmax,tmin"
   ]
  },
  {
   "cell_type": "code",
   "execution_count": null,
   "metadata": {},
   "outputs": [],
   "source": [
    "def leapyearlist():\n",
    "    #Generate list of leap years \n",
    "    leapyearlist=list(range(1804,2300,4))\n",
    "    leapyearlist.remove(1900);leapyearlist.remove(2100);leapyearlist.remove(2200)\n",
    "    return leapyearlist  "
   ]
  },
  {
   "cell_type": "code",
   "execution_count": null,
   "metadata": {},
   "outputs": [],
   "source": [
    "def fix_len(s):\n",
    "    s = str(s)\n",
    "    if len(s) == 1: s = '0' + s\n",
    "    return s"
   ]
  },
  {
   "cell_type": "code",
   "execution_count": null,
   "metadata": {},
   "outputs": [],
   "source": [
    "def convert_yday_to_date(year,yday): # Daymet always has 365 days in a year. On leap years, December 31 is discarded.\n",
    "    one_day = datetime.timedelta(days = 1)\n",
    "    year = int(year)\n",
    "    first_day_of_year = datetime.datetime(year = year,month = 1,day = 1)\n",
    "    this_day = first_day_of_year + (yday) * one_day\n",
    "    year = this_day.year\n",
    "    month = this_day.month\n",
    "    day = this_day.day\n",
    "    today = datetime.datetime(month = month,day = day, year = year)\n",
    "    return today"
   ]
  }
 ],
 "metadata": {
  "kernelspec": {
   "display_name": "Python 3",
   "language": "python",
   "name": "python3"
  },
  "language_info": {
   "codemirror_mode": {
    "name": "ipython",
    "version": 3
   },
   "file_extension": ".py",
   "mimetype": "text/x-python",
   "name": "python",
   "nbconvert_exporter": "python",
   "pygments_lexer": "ipython3",
   "version": "3.7.3"
  }
 },
 "nbformat": 4,
 "nbformat_minor": 4
}

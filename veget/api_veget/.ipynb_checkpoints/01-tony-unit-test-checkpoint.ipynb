{
 "cells": [
  {
   "cell_type": "code",
   "execution_count": 1,
   "metadata": {},
   "outputs": [
    {
     "name": "stderr",
     "output_type": "stream",
     "text": [
      "2020-05-29 02:36:50,529 - BOXY_THINGYS - INFO - Logging Begins\n"
     ]
    },
    {
     "data": {
      "text/plain": [
       "[[-180, 40], [-170, 40], [-170, 30], [-180, 30], [-180, 40]]"
      ]
     },
     "execution_count": 1,
     "metadata": {},
     "output_type": "execute_result"
    }
   ],
   "source": [
    "from vegetLib.box_poly import box_make_poly\n",
    "\n",
    "box_make_poly('40N-180E')"
   ]
  },
  {
   "cell_type": "code",
   "execution_count": 2,
   "metadata": {},
   "outputs": [
    {
     "name": "stdout",
     "output_type": "stream",
     "text": [
      "40N-80E.dbf  40N-80E.json  40N-80E.prj\t40N-80E.shp  40N-80E.shx\r\n"
     ]
    }
   ],
   "source": [
    "!ls 40N-80E"
   ]
  },
  {
   "cell_type": "code",
   "execution_count": 3,
   "metadata": {},
   "outputs": [
    {
     "name": "stderr",
     "output_type": "stream",
     "text": [
      "2020-05-29 02:36:50,668 - BOXY_THINGYS - INFO - create the clipped crs-geometry-file\n"
     ]
    },
    {
     "name": "stdout",
     "output_type": "stream",
     "text": [
      "                                            geometry\n",
      "0  POLYGON ((-80.00000 40.00000, -70.00000 40.000...\n",
      "-80.0 -70.0 40.0 30.0\n",
      "Window(col_off=36315.338413732396, row_off=4805.371634708183, width=4805.371636630291, height=4805.371636630289)\n",
      "<class 'rasterio.io.DatasetReader'>\n",
      "<open DatasetReader name='/vsis3/dev-et-data/NDVI_filled/2001/2001001.250_m_NDVI.tif' mode='r'>\n",
      "==========================================================================================\n",
      "['__class__', '__delattr__', '__dict__', '__dir__', '__doc__', '__enter__', '__eq__', '__exit__', '__format__', '__ge__', '__getattribute__', '__gt__', '__hash__', '__init__', '__init_subclass__', '__le__', '__lt__', '__module__', '__ne__', '__new__', '__pyx_vtable__', '__reduce__', '__reduce_ex__', '__repr__', '__setattr__', '__setstate__', '__sizeof__', '__str__', '__subclasshook__', '__weakref__', '_block_shapes', '_closed', '_count', '_crs', '_crs_wkt', '_descriptions', '_dtypes', '_env', '_gcps', '_get_crs', '_handle_crswkt', '_has_band', '_mask_flags', '_nodatavals', '_offsets', '_read', '_scales', '_set_all_descriptions', '_set_all_offsets', '_set_all_scales', '_set_all_units', '_set_attrs_from_dataset_handle', '_set_crs', '_set_gcps', '_set_nodatavals', '_transform', '_units', 'block_shapes', 'block_size', 'block_window', 'block_windows', 'bounds', 'checksum', 'close', 'closed', 'colorinterp', 'colormap', 'compression', 'count', 'crs', 'dataset_mask', 'descriptions', 'driver', 'dtypes', 'files', 'gcps', 'get_gcps', 'get_nodatavals', 'get_tag_item', 'get_transform', 'height', 'index', 'indexes', 'interleaving', 'is_tiled', 'lnglat', 'mask_flag_enums', 'meta', 'mode', 'name', 'nodata', 'nodatavals', 'offsets', 'options', 'overviews', 'photometric', 'profile', 'read', 'read_crs', 'read_masks', 'read_transform', 'res', 'sample', 'scales', 'shape', 'stop', 'subdatasets', 'tag_namespaces', 'tags', 'transform', 'units', 'width', 'window', 'window_bounds', 'window_transform', 'write_transform', 'xy']\n",
      "==========================================================================================\n",
      "EPSG:4326\n",
      "{'driver': 'GTiff', 'dtype': 'float32', 'nodata': -3.4028234663852886e+38, 'width': 49667, 'height': 14416, 'count': 1, 'crs': CRS.from_epsg(4326), 'transform': Affine(0.0020810045, 0.0, -155.57238265799998,\n",
      "       0.0, -0.0020810045, 49.999999996000085)}\n"
     ]
    },
    {
     "data": {
      "text/plain": [
       "array([[0.06946389, 0.06721319, 0.06168264, ..., 0.        , 0.        ,\n",
       "        0.        ],\n",
       "       [0.06869722, 0.06681875, 0.06241389, ..., 0.        , 0.        ,\n",
       "        0.        ],\n",
       "       [0.06585764, 0.06486042, 0.06131528, ..., 0.        , 0.        ,\n",
       "        0.        ],\n",
       "       ...,\n",
       "       [0.        , 0.        , 0.        , ..., 0.        , 0.        ,\n",
       "        0.        ],\n",
       "       [0.        , 0.        , 0.        , ..., 0.        , 0.        ,\n",
       "        0.        ],\n",
       "       [0.        , 0.        , 0.        , ..., 0.        , 0.        ,\n",
       "        0.        ]], dtype=float32)"
      ]
     },
     "execution_count": 3,
     "metadata": {},
     "output_type": "execute_result"
    }
   ],
   "source": [
    "from vegetLib.box_poly import box_clip_by_geojson\n",
    "\n",
    "infile = '/vsis3/dev-et-data/NDVI_filled/2001/2001001.250_m_NDVI.tif'\n",
    "outfile = './40N-80E/reference_geotiff.tif'\n",
    "geojson_file = './40N-80E/40N-80E.json'\n",
    "box_clip_by_geojson(infile,outfile, geojson_file, nan='zero')\n"
   ]
  },
  {
   "cell_type": "code",
   "execution_count": 12,
   "metadata": {},
   "outputs": [
    {
     "name": "stdout",
     "output_type": "stream",
     "text": [
      "\r\n",
      "def box_clip_by_geojson(infile,outfile, geojson_file, nan='zero'):\r\n",
      "\r\n",
      "    LOG.info('create the clipped crs-geometry-file'.format(infile))\r\n",
      "    filepath=infile\r\n",
      "    geoms = gpd.read_file(geojson_file)\r\n",
      "    print(geoms)\r\n",
      "    left = geoms.bounds.minx[0]\r\n",
      "    right = geoms.bounds.maxx[0]\r\n",
      "    top = geoms.bounds.maxy[0]\r\n",
      "    bottom = geoms.bounds.miny[0]\r\n",
      "\r\n",
      "    print(left,right,top,bottom)\r\n",
      "\r\n",
      "    with rio.open(filepath) as src:\r\n",
      "        my_window = from_bounds(left, bottom, right, top, src.transform)\r\n",
      "        print(my_window)\r\n",
      "        print(type(src))\r\n",
      "        print(src)\r\n",
      "        print(\"===\"*30)\r\n",
      "        print(dir(src))\r\n",
      "        print(\"===\"*30)\r\n",
      "        print(src.crs)\r\n",
      "        print(src.meta)\r\n",
      "\r\n",
      "        rst = src.read(1, window=my_window)\r\n",
      "\r\n",
      "        if (nan == 'zero'):\r\n",
      "            rst[(rst < 0)] = 0\r\n",
      "        else:\r\n",
      "            rst[(rst < 0)] = np.nan\r\n",
      "\r\n",
      "        return rst\r\n",
      "    \r\n",
      "\r\n",
      "    \r\n",
      "    \r\n"
     ]
    }
   ],
   "source": [
    "! cat ../vegetLib/vegetLib/box_poly.py |tail -37"
   ]
  },
  {
   "cell_type": "code",
   "execution_count": 4,
   "metadata": {},
   "outputs": [
    {
     "name": "stdout",
     "output_type": "stream",
     "text": [
      "2020-05-05 23:55:13 2882175158 2001001.250_m_NDVI.tif\r\n",
      "2020-05-05 23:56:17       2786 2001001.250_m_NDVI.tif.aux.xml\r\n",
      "2020-05-05 23:56:17  302269670 2001001.250_m_NDVI.tif.ovr\r\n"
     ]
    }
   ],
   "source": [
    "! aws s3 ls dev-et-data/NDVI_filled/2001/2001001.250_m_NDVI.tif"
   ]
  },
  {
   "cell_type": "code",
   "execution_count": 5,
   "metadata": {},
   "outputs": [
    {
     "name": "stdout",
     "output_type": "stream",
     "text": [
      "pip install --user -e .\n",
      "Obtaining file:///home/jupyter-kagone/files/cloud-veg-et/veget/vegetLib\n",
      "Requirement already satisfied: boto3 in /opt/tljh/user/lib/python3.7/site-packages (from vegetLib==1.0.0) (1.12.46)\n",
      "Requirement already satisfied: s3transfer<0.4.0,>=0.3.0 in /opt/tljh/user/lib/python3.7/site-packages (from boto3->vegetLib==1.0.0) (0.3.3)\n",
      "Requirement already satisfied: jmespath<1.0.0,>=0.7.1 in /opt/tljh/user/lib/python3.7/site-packages (from boto3->vegetLib==1.0.0) (0.9.5)\n",
      "Requirement already satisfied: botocore<1.16.0,>=1.15.46 in /opt/tljh/user/lib/python3.7/site-packages (from boto3->vegetLib==1.0.0) (1.15.46)\n",
      "Requirement already satisfied: docutils<0.16,>=0.10 in /opt/tljh/user/lib/python3.7/site-packages (from botocore<1.16.0,>=1.15.46->boto3->vegetLib==1.0.0) (0.15.2)\n",
      "Requirement already satisfied: python-dateutil<3.0.0,>=2.1 in /opt/tljh/user/lib/python3.7/site-packages (from botocore<1.16.0,>=1.15.46->boto3->vegetLib==1.0.0) (2.8.1)\n",
      "Requirement already satisfied: urllib3<1.26,>=1.20; python_version != \"3.4\" in /opt/tljh/user/lib/python3.7/site-packages (from botocore<1.16.0,>=1.15.46->boto3->vegetLib==1.0.0) (1.24.2)\n",
      "Requirement already satisfied: six>=1.5 in /opt/tljh/user/lib/python3.7/site-packages (from python-dateutil<3.0.0,>=2.1->botocore<1.16.0,>=1.15.46->boto3->vegetLib==1.0.0) (1.12.0)\n",
      "Installing collected packages: vegetLib\n",
      "  Found existing installation: vegetLib 1.0.0\n",
      "    Uninstalling vegetLib-1.0.0:\n",
      "      Successfully uninstalled vegetLib-1.0.0\n",
      "  Running setup.py develop for vegetLib\n",
      "Successfully installed vegetLib\n"
     ]
    }
   ],
   "source": [
    "#! (cd ../vegetLib; make)"
   ]
  },
  {
   "cell_type": "code",
   "execution_count": 6,
   "metadata": {},
   "outputs": [
    {
     "name": "stdout",
     "output_type": "stream",
     "text": [
      "Requirement already satisfied: geopandas in /home/jupyter-kagone/.local/lib/python3.7/site-packages (0.7.0)\n",
      "Requirement already satisfied: pyproj>=2.2.0 in /home/jupyter-kagone/.local/lib/python3.7/site-packages (from geopandas) (2.6.1.post1)\n",
      "Requirement already satisfied: shapely in /home/jupyter-kagone/.local/lib/python3.7/site-packages (from geopandas) (1.7.0)\n",
      "Requirement already satisfied: pandas>=0.23.0 in /opt/tljh/user/lib/python3.7/site-packages (from geopandas) (1.0.3)\n",
      "Requirement already satisfied: fiona in /home/jupyter-kagone/.local/lib/python3.7/site-packages (from geopandas) (1.8.13.post1)\n",
      "Requirement already satisfied: pytz>=2017.2 in /opt/tljh/user/lib/python3.7/site-packages (from pandas>=0.23.0->geopandas) (2019.3)\n",
      "Requirement already satisfied: numpy>=1.13.3 in /opt/tljh/user/lib/python3.7/site-packages (from pandas>=0.23.0->geopandas) (1.18.3)\n",
      "Requirement already satisfied: python-dateutil>=2.6.1 in /opt/tljh/user/lib/python3.7/site-packages (from pandas>=0.23.0->geopandas) (2.8.1)\n",
      "Requirement already satisfied: click<8,>=4.0 in /opt/tljh/user/lib/python3.7/site-packages (from fiona->geopandas) (7.1.1)\n",
      "Requirement already satisfied: munch in /home/jupyter-kagone/.local/lib/python3.7/site-packages (from fiona->geopandas) (2.5.0)\n",
      "Requirement already satisfied: click-plugins>=1.0 in /opt/tljh/user/lib/python3.7/site-packages (from fiona->geopandas) (1.1.1)\n",
      "Requirement already satisfied: six>=1.7 in /opt/tljh/user/lib/python3.7/site-packages (from fiona->geopandas) (1.12.0)\n",
      "Requirement already satisfied: cligj>=0.5 in /opt/tljh/user/lib/python3.7/site-packages (from fiona->geopandas) (0.5.0)\n",
      "Requirement already satisfied: attrs>=17 in /opt/tljh/user/lib/python3.7/site-packages (from fiona->geopandas) (19.3.0)\n"
     ]
    }
   ],
   "source": [
    "#! pip install --user geopandas"
   ]
  },
  {
   "cell_type": "code",
   "execution_count": null,
   "metadata": {},
   "outputs": [],
   "source": []
  }
 ],
 "metadata": {
  "kernelspec": {
   "display_name": "Python 3",
   "language": "python",
   "name": "python3"
  },
  "language_info": {
   "codemirror_mode": {
    "name": "ipython",
    "version": 3
   },
   "file_extension": ".py",
   "mimetype": "text/x-python",
   "name": "python",
   "nbconvert_exporter": "python",
   "pygments_lexer": "ipython3",
   "version": "3.7.3"
  }
 },
 "nbformat": 4,
 "nbformat_minor": 4
}

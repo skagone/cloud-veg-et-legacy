{
 "cells": [
  {
   "cell_type": "code",
   "execution_count": 1,
   "metadata": {},
   "outputs": [
    {
     "name": "stderr",
     "output_type": "stream",
     "text": [
      "2020-09-09 21:27:10,841 - BOXY_THINGYS - INFO - Logging Begins\n",
      "2020-09-09 21:27:10,843 - VegET_CLASS - INFO - Logging Begins\n",
      "2020-09-09 21:27:10,844 - VegET_CLASS - INFO - TILE is tile40N-110E_chip38N-110E\n",
      "2020-09-09 21:27:10,846 - VegET_CLASS - INFO - Important Config path is ./40yr_grid_config\n",
      "2020-09-09 21:27:10,863 - VegET_CLASS - INFO - Important path mode is aws\n",
      "2020-09-09 21:27:10,865 - COOL_RASTERMANAGER - INFO - Logging Begins\n",
      "2020-09-09 21:27:10,866 - COOL_RASTERMANAGER - INFO - Tony-s stupid - tile name is - tile40N-110E_chip38N-110E\n",
      "2020-09-09 21:27:10,867 - COOL_RASTERMANAGER - INFO - using scalable tile names tile40N-110E_chip38N-110E\n",
      "2020-09-09 21:27:10,868 - COOL_RASTERMANAGER - INFO - temp folder is\n",
      "2020-09-09 21:27:10,872 - PATHMANAGER - INFO - Logging Begins\n"
     ]
    },
    {
     "name": "stdout",
     "output_type": "stream",
     "text": [
      "------------------------------------------------------------------------------------------\n"
     ]
    },
    {
     "name": "stderr",
     "output_type": "stream",
     "text": [
      "2020-09-09 21:27:12,052 - VegET_CLASS - INFO - OUTPUT Directory is: dev-et-data/out/DelawareRiverBasin/Run09_09_2020/tile40N-110E_chip38N-110E\n",
      "2020-09-09 21:27:12,055 - VegET_CLASS - INFO - self.rmanager.normalize_to_std_grid_fast ['/vsis3/dev-et-data/NA_data_for_cloud/Soil/global/inp.tif', '/vsis3/dev-et-data/NA_data_for_cloud/Soil/global/whc.tif', '/vsis3/dev-et-data/NA_data_for_cloud/Soil/global/fdc.tif', '/vsis3/dev-et-data/NA_data_for_cloud/Soil/global/sat.tif', '/vsis3/dev-et-data/NA_data_for_cloud/global_water_mask_inland.tif']\n",
      "2020-09-09 21:27:12,056 - COOL_RASTERMANAGER - INFO - _warp_inputs\n"
     ]
    },
    {
     "name": "stdout",
     "output_type": "stream",
     "text": [
      "dev-et-data/out\n",
      "DelawareRiverBasin\n",
      "Current date = 2020-09-09\n",
      "             _ _            ___  ___  _  _ \n",
      "            | | | ___  ___ | __>|_ _|| || |\n",
      "            | ' |/ ._>/ . || _>  | | |_/|_/\n",
      "            |__/ \\___.\\_. ||___> |_| <_><_>\n",
      "                       <___'                \n",
      "2013-12-30 00:00:00\n",
      "2013-12-31 00:00:00\n",
      "1\n",
      "warpfile /vsis3/dev-et-data/NA_data_for_cloud/Soil/global/inp.tif\n"
     ]
    },
    {
     "name": "stderr",
     "output_type": "stream",
     "text": [
      "2020-09-09 21:27:13,383 - COOL_RASTERMANAGER - INFO - _warp_one Completed /vsis3/dev-et-data/NA_data_for_cloud/Soil/global/inp.tif\n",
      "2020-09-09 21:27:13,384 - COOL_RASTERMANAGER - INFO - WARP - TIME - 1.327446011826396 - /vsis3/dev-et-data/NA_data_for_cloud/Soil/global/inp.tif\n"
     ]
    },
    {
     "name": "stdout",
     "output_type": "stream",
     "text": [
      "data shape = (962, 962)\n",
      "warpfile /vsis3/dev-et-data/NA_data_for_cloud/Soil/global/whc.tif\n"
     ]
    },
    {
     "name": "stderr",
     "output_type": "stream",
     "text": [
      "2020-09-09 21:27:16,275 - COOL_RASTERMANAGER - INFO - _warp_one Completed /vsis3/dev-et-data/NA_data_for_cloud/Soil/global/whc.tif\n",
      "2020-09-09 21:27:16,276 - COOL_RASTERMANAGER - INFO - WARP - TIME - 2.88884156011045 - /vsis3/dev-et-data/NA_data_for_cloud/Soil/global/whc.tif\n"
     ]
    },
    {
     "name": "stdout",
     "output_type": "stream",
     "text": [
      "data shape = (962, 962)\n",
      "warpfile /vsis3/dev-et-data/NA_data_for_cloud/Soil/global/fdc.tif\n"
     ]
    },
    {
     "name": "stderr",
     "output_type": "stream",
     "text": [
      "2020-09-09 21:27:19,061 - COOL_RASTERMANAGER - INFO - _warp_one Completed /vsis3/dev-et-data/NA_data_for_cloud/Soil/global/fdc.tif\n",
      "2020-09-09 21:27:19,062 - COOL_RASTERMANAGER - INFO - WARP - TIME - 2.782794516533613 - /vsis3/dev-et-data/NA_data_for_cloud/Soil/global/fdc.tif\n"
     ]
    },
    {
     "name": "stdout",
     "output_type": "stream",
     "text": [
      "data shape = (962, 962)\n",
      "warpfile /vsis3/dev-et-data/NA_data_for_cloud/Soil/global/sat.tif\n"
     ]
    },
    {
     "name": "stderr",
     "output_type": "stream",
     "text": [
      "2020-09-09 21:27:21,629 - COOL_RASTERMANAGER - INFO - _warp_one Completed /vsis3/dev-et-data/NA_data_for_cloud/Soil/global/sat.tif\n",
      "2020-09-09 21:27:21,630 - COOL_RASTERMANAGER - INFO - WARP - TIME - 2.5676894932985306 - /vsis3/dev-et-data/NA_data_for_cloud/Soil/global/sat.tif\n"
     ]
    },
    {
     "name": "stdout",
     "output_type": "stream",
     "text": [
      "data shape = (962, 962)\n",
      "warpfile /vsis3/dev-et-data/NA_data_for_cloud/global_water_mask_inland.tif\n"
     ]
    },
    {
     "name": "stderr",
     "output_type": "stream",
     "text": [
      "2020-09-09 21:27:22,611 - COOL_RASTERMANAGER - INFO - _warp_one Completed /vsis3/dev-et-data/NA_data_for_cloud/global_water_mask_inland.tif\n",
      "2020-09-09 21:27:22,612 - COOL_RASTERMANAGER - INFO - WARP - TIME - 0.9809543788433075 - /vsis3/dev-et-data/NA_data_for_cloud/global_water_mask_inland.tif\n",
      "2020-09-09 21:27:22,617 - COOL_RASTERMANAGER - INFO - _warp_inputs\n"
     ]
    },
    {
     "name": "stdout",
     "output_type": "stream",
     "text": [
      "data shape = (962, 962)\n",
      "warpfile /vsis3/dev-et-data/in/USA_data/NDVI_med2003_2017/med364.250_m_NDVI.tif\n"
     ]
    },
    {
     "name": "stderr",
     "output_type": "stream",
     "text": [
      "2020-09-09 21:27:24,390 - COOL_RASTERMANAGER - INFO - _warp_one Completed /vsis3/dev-et-data/in/USA_data/NDVI_med2003_2017/med364.250_m_NDVI.tif\n",
      "2020-09-09 21:27:24,391 - COOL_RASTERMANAGER - INFO - WARP - TIME - 1.7735492568463087 - /vsis3/dev-et-data/in/USA_data/NDVI_med2003_2017/med364.250_m_NDVI.tif\n"
     ]
    },
    {
     "name": "stdout",
     "output_type": "stream",
     "text": [
      "data shape = (962, 962)\n",
      "warpfile /vsis3/dev-et-data/NA_data_for_cloud/ETo_mosaic/pet364.tif\n"
     ]
    },
    {
     "name": "stderr",
     "output_type": "stream",
     "text": [
      "2020-09-09 21:27:25,303 - COOL_RASTERMANAGER - INFO - _warp_one Completed /vsis3/dev-et-data/NA_data_for_cloud/ETo_mosaic/pet364.tif\n",
      "2020-09-09 21:27:25,304 - COOL_RASTERMANAGER - INFO - WARP - TIME - 0.9104822110384703 - /vsis3/dev-et-data/NA_data_for_cloud/ETo_mosaic/pet364.tif\n"
     ]
    },
    {
     "name": "stdout",
     "output_type": "stream",
     "text": [
      "data shape = (962, 962)\n",
      "warpfile /vsis3/dev-et-data/in/USA_data/precip_gridmet_tiffs/2013/prec_2013364.tif\n"
     ]
    },
    {
     "name": "stderr",
     "output_type": "stream",
     "text": [
      "2020-09-09 21:27:25,816 - COOL_RASTERMANAGER - INFO - _warp_one Completed /vsis3/dev-et-data/in/USA_data/precip_gridmet_tiffs/2013/prec_2013364.tif\n",
      "2020-09-09 21:27:25,817 - COOL_RASTERMANAGER - INFO - WARP - TIME - 0.5111209135502577 - /vsis3/dev-et-data/in/USA_data/precip_gridmet_tiffs/2013/prec_2013364.tif\n"
     ]
    },
    {
     "name": "stdout",
     "output_type": "stream",
     "text": [
      "data shape = (962, 962)\n",
      "warpfile /vsis3/dev-et-data/in/NorthAmerica/Temp/daily/tavg/2013/tavg_2013364.tif\n"
     ]
    },
    {
     "name": "stderr",
     "output_type": "stream",
     "text": [
      "2020-09-09 21:27:26,444 - COOL_RASTERMANAGER - INFO - _warp_one Completed /vsis3/dev-et-data/in/NorthAmerica/Temp/daily/tavg/2013/tavg_2013364.tif\n",
      "2020-09-09 21:27:26,445 - COOL_RASTERMANAGER - INFO - WARP - TIME - 0.6227881796658039 - /vsis3/dev-et-data/in/NorthAmerica/Temp/daily/tavg/2013/tavg_2013364.tif\n"
     ]
    },
    {
     "name": "stdout",
     "output_type": "stream",
     "text": [
      "data shape = (962, 962)\n",
      "warpfile /vsis3/dev-et-data/in/NorthAmerica/Temp/daily/tmin/2013/tmin_2013364.tif\n"
     ]
    },
    {
     "name": "stderr",
     "output_type": "stream",
     "text": [
      "2020-09-09 21:27:27,071 - COOL_RASTERMANAGER - INFO - _warp_one Completed /vsis3/dev-et-data/in/NorthAmerica/Temp/daily/tmin/2013/tmin_2013364.tif\n",
      "2020-09-09 21:27:27,072 - COOL_RASTERMANAGER - INFO - WARP - TIME - 0.6255391221493483 - /vsis3/dev-et-data/in/NorthAmerica/Temp/daily/tmin/2013/tmin_2013364.tif\n"
     ]
    },
    {
     "name": "stdout",
     "output_type": "stream",
     "text": [
      "data shape = (962, 962)\n",
      "warpfile /vsis3/dev-et-data/in/NorthAmerica/Temp/daily/tmax/2013/tmax_2013364.tif\n"
     ]
    },
    {
     "name": "stderr",
     "output_type": "stream",
     "text": [
      "2020-09-09 21:27:27,698 - COOL_RASTERMANAGER - INFO - _warp_one Completed /vsis3/dev-et-data/in/NorthAmerica/Temp/daily/tmax/2013/tmax_2013364.tif\n",
      "2020-09-09 21:27:27,699 - COOL_RASTERMANAGER - INFO - WARP - TIME - 0.6262498386204243 - /vsis3/dev-et-data/in/NorthAmerica/Temp/daily/tmax/2013/tmax_2013364.tif\n",
      "2020-09-09 21:27:27,747 - VegET_CLASS - INFO - today is 364\n"
     ]
    },
    {
     "name": "stdout",
     "output_type": "stream",
     "text": [
      "data shape = (962, 962)\n",
      "2013 12 30\n",
      "today is 364\n",
      "swout 2013/swi_2013364.tif\n",
      "['out', 'DelawareRiverBasin', 'Run09_09_2020', 'tile40N-110E_chip38N-110E']\n",
      "bucket prefix = out/DelawareRiverBasin/Run09_09_2020/tile40N-110E_chip38N-110E\n"
     ]
    },
    {
     "name": "stderr",
     "output_type": "stream",
     "text": [
      "2020-09-09 21:27:28,161 - COOL_RASTERMANAGER - INFO - OUTPUT - TIME - 0.4129776284098625 - out/DelawareRiverBasin/Run09_09_2020/tile40N-110E_chip38N-110E/2013/swi_2013364.tif\n"
     ]
    },
    {
     "name": "stdout",
     "output_type": "stream",
     "text": [
      "['out', 'DelawareRiverBasin', 'Run09_09_2020', 'tile40N-110E_chip38N-110E']\n",
      "bucket prefix = out/DelawareRiverBasin/Run09_09_2020/tile40N-110E_chip38N-110E\n"
     ]
    },
    {
     "name": "stderr",
     "output_type": "stream",
     "text": [
      "2020-09-09 21:27:28,392 - COOL_RASTERMANAGER - INFO - OUTPUT - TIME - 0.2293565534055233 - out/DelawareRiverBasin/Run09_09_2020/tile40N-110E_chip38N-110E/2013/snwpk_2013364.tif\n"
     ]
    },
    {
     "name": "stdout",
     "output_type": "stream",
     "text": [
      "['out', 'DelawareRiverBasin', 'Run09_09_2020', 'tile40N-110E_chip38N-110E']\n",
      "bucket prefix = out/DelawareRiverBasin/Run09_09_2020/tile40N-110E_chip38N-110E\n"
     ]
    },
    {
     "name": "stderr",
     "output_type": "stream",
     "text": [
      "2020-09-09 21:27:28,709 - COOL_RASTERMANAGER - INFO - OUTPUT - TIME - 0.3161027207970619 - out/DelawareRiverBasin/Run09_09_2020/tile40N-110E_chip38N-110E/2013/rain_2013364.tif\n"
     ]
    },
    {
     "name": "stdout",
     "output_type": "stream",
     "text": [
      "['out', 'DelawareRiverBasin', 'Run09_09_2020', 'tile40N-110E_chip38N-110E']\n",
      "bucket prefix = out/DelawareRiverBasin/Run09_09_2020/tile40N-110E_chip38N-110E\n"
     ]
    },
    {
     "name": "stderr",
     "output_type": "stream",
     "text": [
      "2020-09-09 21:27:29,390 - COOL_RASTERMANAGER - INFO - OUTPUT - TIME - 0.6792831122875214 - out/DelawareRiverBasin/Run09_09_2020/tile40N-110E_chip38N-110E/2013/swe_2013364.tif\n"
     ]
    },
    {
     "name": "stdout",
     "output_type": "stream",
     "text": [
      "['out', 'DelawareRiverBasin', 'Run09_09_2020', 'tile40N-110E_chip38N-110E']\n",
      "bucket prefix = out/DelawareRiverBasin/Run09_09_2020/tile40N-110E_chip38N-110E\n"
     ]
    },
    {
     "name": "stderr",
     "output_type": "stream",
     "text": [
      "2020-09-09 21:27:29,641 - COOL_RASTERMANAGER - INFO - OUTPUT - TIME - 0.2496080230921507 - out/DelawareRiverBasin/Run09_09_2020/tile40N-110E_chip38N-110E/2013/snowmelt_2013364.tif\n"
     ]
    },
    {
     "name": "stdout",
     "output_type": "stream",
     "text": [
      "['out', 'DelawareRiverBasin', 'Run09_09_2020', 'tile40N-110E_chip38N-110E']\n",
      "bucket prefix = out/DelawareRiverBasin/Run09_09_2020/tile40N-110E_chip38N-110E\n"
     ]
    },
    {
     "name": "stderr",
     "output_type": "stream",
     "text": [
      "2020-09-09 21:27:29,947 - COOL_RASTERMANAGER - INFO - OUTPUT - TIME - 0.289910189807415 - out/DelawareRiverBasin/Run09_09_2020/tile40N-110E_chip38N-110E/2013/dd_2013364.tif\n"
     ]
    },
    {
     "name": "stdout",
     "output_type": "stream",
     "text": [
      "['out', 'DelawareRiverBasin', 'Run09_09_2020', 'tile40N-110E_chip38N-110E']\n",
      "bucket prefix = out/DelawareRiverBasin/Run09_09_2020/tile40N-110E_chip38N-110E\n"
     ]
    },
    {
     "name": "stderr",
     "output_type": "stream",
     "text": [
      "2020-09-09 21:27:30,359 - COOL_RASTERMANAGER - INFO - OUTPUT - TIME - 0.4108609240502119 - out/DelawareRiverBasin/Run09_09_2020/tile40N-110E_chip38N-110E/2013/srf_2013364.tif\n",
      "/home/jupyter-kagone/files/cloud-veg-et/veget/vegetLib/vegetLib/veget.py:323: RuntimeWarning: invalid value encountered in true_divide\n",
      "  etasw2 = (SWi / (0.5 * self.whc)) * etasw1\n",
      "/home/jupyter-kagone/files/cloud-veg-et/veget/vegetLib/vegetLib/veget.py:331: RuntimeWarning: invalid value encountered in greater\n",
      "  etasw4_boolean = (etasw3 > SWi)\n",
      "/home/jupyter-kagone/files/cloud-veg-et/veget/vegetLib/vegetLib/veget.py:336: RuntimeWarning: invalid value encountered in greater\n",
      "  etasw5_boolean = (etasw4 > self.whc)\n",
      "/home/jupyter-kagone/files/cloud-veg-et/veget/vegetLib/vegetLib/veget.py:365: RuntimeWarning: invalid value encountered in greater\n",
      "  netet_boolean = netet1 > 0\n",
      "/home/jupyter-kagone/files/cloud-veg-et/veget/vegetLib/vegetLib/veget.py:372: RuntimeWarning: invalid value encountered in less\n",
      "  SWf_boolean2 = (SWf1 < 0.0)\n"
     ]
    },
    {
     "name": "stdout",
     "output_type": "stream",
     "text": [
      "(962, 962)\n",
      "(962, 962)\n",
      "(962, 962)\n",
      "(962, 962)\n",
      "['out', 'DelawareRiverBasin', 'Run09_09_2020', 'tile40N-110E_chip38N-110E']\n",
      "bucket prefix = out/DelawareRiverBasin/Run09_09_2020/tile40N-110E_chip38N-110E\n"
     ]
    },
    {
     "name": "stderr",
     "output_type": "stream",
     "text": [
      "2020-09-09 21:27:30,752 - COOL_RASTERMANAGER - INFO - OUTPUT - TIME - 0.32320791110396385 - out/DelawareRiverBasin/Run09_09_2020/tile40N-110E_chip38N-110E/2013/etasw_2013364.tif\n"
     ]
    },
    {
     "name": "stdout",
     "output_type": "stream",
     "text": [
      "['out', 'DelawareRiverBasin', 'Run09_09_2020', 'tile40N-110E_chip38N-110E']\n",
      "bucket prefix = out/DelawareRiverBasin/Run09_09_2020/tile40N-110E_chip38N-110E\n"
     ]
    },
    {
     "name": "stderr",
     "output_type": "stream",
     "text": [
      "2020-09-09 21:27:30,986 - COOL_RASTERMANAGER - INFO - OUTPUT - TIME - 0.23315144143998623 - out/DelawareRiverBasin/Run09_09_2020/tile40N-110E_chip38N-110E/2013/swf_2013364.tif\n"
     ]
    },
    {
     "name": "stdout",
     "output_type": "stream",
     "text": [
      "['out', 'DelawareRiverBasin', 'Run09_09_2020', 'tile40N-110E_chip38N-110E']\n",
      "bucket prefix = out/DelawareRiverBasin/Run09_09_2020/tile40N-110E_chip38N-110E\n"
     ]
    },
    {
     "name": "stderr",
     "output_type": "stream",
     "text": [
      "2020-09-09 21:27:31,262 - COOL_RASTERMANAGER - INFO - OUTPUT - TIME - 0.2749652061611414 - out/DelawareRiverBasin/Run09_09_2020/tile40N-110E_chip38N-110E/2013/etasw5_2013364.tif\n"
     ]
    },
    {
     "name": "stdout",
     "output_type": "stream",
     "text": [
      "['out', 'DelawareRiverBasin', 'Run09_09_2020', 'tile40N-110E_chip38N-110E']\n",
      "bucket prefix = out/DelawareRiverBasin/Run09_09_2020/tile40N-110E_chip38N-110E\n"
     ]
    },
    {
     "name": "stderr",
     "output_type": "stream",
     "text": [
      "2020-09-09 21:27:31,581 - COOL_RASTERMANAGER - INFO - OUTPUT - TIME - 0.31733384169638157 - out/DelawareRiverBasin/Run09_09_2020/tile40N-110E_chip38N-110E/2013/etc_2013364.tif\n"
     ]
    },
    {
     "name": "stdout",
     "output_type": "stream",
     "text": [
      "['out', 'DelawareRiverBasin', 'Run09_09_2020', 'tile40N-110E_chip38N-110E']\n",
      "bucket prefix = out/DelawareRiverBasin/Run09_09_2020/tile40N-110E_chip38N-110E\n"
     ]
    },
    {
     "name": "stderr",
     "output_type": "stream",
     "text": [
      "2020-09-09 21:27:31,844 - COOL_RASTERMANAGER - INFO - OUTPUT - TIME - 0.26197812519967556 - out/DelawareRiverBasin/Run09_09_2020/tile40N-110E_chip38N-110E/2013/netet_2013364.tif\n",
      "2020-09-09 21:27:31,845 - VegET_CLASS - INFO - DAY - TIME - 9.228419287130237 - 2013-12-30 00:00:00\n",
      "2020-09-09 21:27:31,846 - COOL_RASTERMANAGER - INFO - _warp_inputs\n"
     ]
    },
    {
     "name": "stdout",
     "output_type": "stream",
     "text": [
      "-------------------------------\n",
      "output monthly is True and output yearly is True\n",
      "warpfile /vsis3/dev-et-data/in/USA_data/NDVI_med2003_2017/med365.250_m_NDVI.tif\n"
     ]
    },
    {
     "name": "stderr",
     "output_type": "stream",
     "text": [
      "2020-09-09 21:27:33,966 - COOL_RASTERMANAGER - INFO - _warp_one Completed /vsis3/dev-et-data/in/USA_data/NDVI_med2003_2017/med365.250_m_NDVI.tif\n",
      "2020-09-09 21:27:33,967 - COOL_RASTERMANAGER - INFO - WARP - TIME - 2.119843201711774 - /vsis3/dev-et-data/in/USA_data/NDVI_med2003_2017/med365.250_m_NDVI.tif\n"
     ]
    },
    {
     "name": "stdout",
     "output_type": "stream",
     "text": [
      "data shape = (962, 962)\n",
      "warpfile /vsis3/dev-et-data/NA_data_for_cloud/ETo_mosaic/pet365.tif\n"
     ]
    },
    {
     "name": "stderr",
     "output_type": "stream",
     "text": [
      "2020-09-09 21:27:34,666 - COOL_RASTERMANAGER - INFO - _warp_one Completed /vsis3/dev-et-data/NA_data_for_cloud/ETo_mosaic/pet365.tif\n",
      "2020-09-09 21:27:34,667 - COOL_RASTERMANAGER - INFO - WARP - TIME - 0.698936216533184 - /vsis3/dev-et-data/NA_data_for_cloud/ETo_mosaic/pet365.tif\n"
     ]
    },
    {
     "name": "stdout",
     "output_type": "stream",
     "text": [
      "data shape = (962, 962)\n",
      "warpfile /vsis3/dev-et-data/in/USA_data/precip_gridmet_tiffs/2013/prec_2013365.tif\n"
     ]
    },
    {
     "name": "stderr",
     "output_type": "stream",
     "text": [
      "2020-09-09 21:27:35,012 - COOL_RASTERMANAGER - INFO - _warp_one Completed /vsis3/dev-et-data/in/USA_data/precip_gridmet_tiffs/2013/prec_2013365.tif\n",
      "2020-09-09 21:27:35,014 - COOL_RASTERMANAGER - INFO - WARP - TIME - 0.34563664719462395 - /vsis3/dev-et-data/in/USA_data/precip_gridmet_tiffs/2013/prec_2013365.tif\n"
     ]
    },
    {
     "name": "stdout",
     "output_type": "stream",
     "text": [
      "data shape = (962, 962)\n",
      "warpfile /vsis3/dev-et-data/in/NorthAmerica/Temp/daily/tavg/2013/tavg_2013365.tif\n"
     ]
    },
    {
     "name": "stderr",
     "output_type": "stream",
     "text": [
      "2020-09-09 21:27:35,505 - COOL_RASTERMANAGER - INFO - _warp_one Completed /vsis3/dev-et-data/in/NorthAmerica/Temp/daily/tavg/2013/tavg_2013365.tif\n",
      "2020-09-09 21:27:35,507 - COOL_RASTERMANAGER - INFO - WARP - TIME - 0.49194059520959854 - /vsis3/dev-et-data/in/NorthAmerica/Temp/daily/tavg/2013/tavg_2013365.tif\n"
     ]
    },
    {
     "name": "stdout",
     "output_type": "stream",
     "text": [
      "data shape = (962, 962)\n",
      "warpfile /vsis3/dev-et-data/in/NorthAmerica/Temp/daily/tmin/2013/tmin_2013365.tif\n"
     ]
    },
    {
     "name": "stderr",
     "output_type": "stream",
     "text": [
      "2020-09-09 21:27:35,868 - COOL_RASTERMANAGER - INFO - _warp_one Completed /vsis3/dev-et-data/in/NorthAmerica/Temp/daily/tmin/2013/tmin_2013365.tif\n",
      "2020-09-09 21:27:35,869 - COOL_RASTERMANAGER - INFO - WARP - TIME - 0.36099107936024666 - /vsis3/dev-et-data/in/NorthAmerica/Temp/daily/tmin/2013/tmin_2013365.tif\n"
     ]
    },
    {
     "name": "stdout",
     "output_type": "stream",
     "text": [
      "data shape = (962, 962)\n",
      "warpfile /vsis3/dev-et-data/in/NorthAmerica/Temp/daily/tmax/2013/tmax_2013365.tif\n"
     ]
    },
    {
     "name": "stderr",
     "output_type": "stream",
     "text": [
      "2020-09-09 21:27:36,356 - COOL_RASTERMANAGER - INFO - _warp_one Completed /vsis3/dev-et-data/in/NorthAmerica/Temp/daily/tmax/2013/tmax_2013365.tif\n",
      "2020-09-09 21:27:36,357 - COOL_RASTERMANAGER - INFO - WARP - TIME - 0.48759557120501995 - /vsis3/dev-et-data/in/NorthAmerica/Temp/daily/tmax/2013/tmax_2013365.tif\n",
      "2020-09-09 21:27:36,411 - VegET_CLASS - INFO - today is 365\n"
     ]
    },
    {
     "name": "stdout",
     "output_type": "stream",
     "text": [
      "data shape = (962, 962)\n",
      "2013 12 31\n",
      "today is 365\n",
      "swout 2013/swi_2013365.tif\n",
      "['out', 'DelawareRiverBasin', 'Run09_09_2020', 'tile40N-110E_chip38N-110E']\n",
      "bucket prefix = out/DelawareRiverBasin/Run09_09_2020/tile40N-110E_chip38N-110E\n"
     ]
    },
    {
     "name": "stderr",
     "output_type": "stream",
     "text": [
      "2020-09-09 21:27:36,737 - COOL_RASTERMANAGER - INFO - OUTPUT - TIME - 0.32489871978759766 - out/DelawareRiverBasin/Run09_09_2020/tile40N-110E_chip38N-110E/2013/swi_2013365.tif\n"
     ]
    },
    {
     "name": "stdout",
     "output_type": "stream",
     "text": [
      "['out', 'DelawareRiverBasin', 'Run09_09_2020', 'tile40N-110E_chip38N-110E']\n",
      "bucket prefix = out/DelawareRiverBasin/Run09_09_2020/tile40N-110E_chip38N-110E\n"
     ]
    },
    {
     "name": "stderr",
     "output_type": "stream",
     "text": [
      "2020-09-09 21:27:37,016 - COOL_RASTERMANAGER - INFO - OUTPUT - TIME - 0.2775977123528719 - out/DelawareRiverBasin/Run09_09_2020/tile40N-110E_chip38N-110E/2013/snwpk_2013365.tif\n"
     ]
    },
    {
     "name": "stdout",
     "output_type": "stream",
     "text": [
      "['out', 'DelawareRiverBasin', 'Run09_09_2020', 'tile40N-110E_chip38N-110E']\n",
      "bucket prefix = out/DelawareRiverBasin/Run09_09_2020/tile40N-110E_chip38N-110E\n"
     ]
    },
    {
     "name": "stderr",
     "output_type": "stream",
     "text": [
      "2020-09-09 21:27:37,330 - COOL_RASTERMANAGER - INFO - OUTPUT - TIME - 0.31209012120962143 - out/DelawareRiverBasin/Run09_09_2020/tile40N-110E_chip38N-110E/2013/rain_2013365.tif\n"
     ]
    },
    {
     "name": "stdout",
     "output_type": "stream",
     "text": [
      "['out', 'DelawareRiverBasin', 'Run09_09_2020', 'tile40N-110E_chip38N-110E']\n",
      "bucket prefix = out/DelawareRiverBasin/Run09_09_2020/tile40N-110E_chip38N-110E\n"
     ]
    },
    {
     "name": "stderr",
     "output_type": "stream",
     "text": [
      "2020-09-09 21:27:37,633 - COOL_RASTERMANAGER - INFO - OUTPUT - TIME - 0.3016560096293688 - out/DelawareRiverBasin/Run09_09_2020/tile40N-110E_chip38N-110E/2013/swe_2013365.tif\n"
     ]
    },
    {
     "name": "stdout",
     "output_type": "stream",
     "text": [
      "['out', 'DelawareRiverBasin', 'Run09_09_2020', 'tile40N-110E_chip38N-110E']\n",
      "bucket prefix = out/DelawareRiverBasin/Run09_09_2020/tile40N-110E_chip38N-110E\n"
     ]
    },
    {
     "name": "stderr",
     "output_type": "stream",
     "text": [
      "2020-09-09 21:27:44,821 - COOL_RASTERMANAGER - INFO - OUTPUT - TIME - 7.1877921018749475 - out/DelawareRiverBasin/Run09_09_2020/tile40N-110E_chip38N-110E/2013/snowmelt_2013365.tif\n",
      "/home/jupyter-kagone/files/cloud-veg-et/veget/vegetLib/vegetLib/veget.py:276: RuntimeWarning: invalid value encountered in greater_equal\n",
      "  rf_boolean = (Rf1 >= 0)\n"
     ]
    },
    {
     "name": "stdout",
     "output_type": "stream",
     "text": [
      "['out', 'DelawareRiverBasin', 'Run09_09_2020', 'tile40N-110E_chip38N-110E']\n",
      "bucket prefix = out/DelawareRiverBasin/Run09_09_2020/tile40N-110E_chip38N-110E\n"
     ]
    },
    {
     "name": "stderr",
     "output_type": "stream",
     "text": [
      "2020-09-09 21:27:45,172 - COOL_RASTERMANAGER - INFO - OUTPUT - TIME - 0.3360862676054239 - out/DelawareRiverBasin/Run09_09_2020/tile40N-110E_chip38N-110E/2013/dd_2013365.tif\n"
     ]
    },
    {
     "name": "stdout",
     "output_type": "stream",
     "text": [
      "['out', 'DelawareRiverBasin', 'Run09_09_2020', 'tile40N-110E_chip38N-110E']\n",
      "bucket prefix = out/DelawareRiverBasin/Run09_09_2020/tile40N-110E_chip38N-110E\n"
     ]
    },
    {
     "name": "stderr",
     "output_type": "stream",
     "text": [
      "2020-09-09 21:27:45,412 - COOL_RASTERMANAGER - INFO - OUTPUT - TIME - 0.23865381069481373 - out/DelawareRiverBasin/Run09_09_2020/tile40N-110E_chip38N-110E/2013/srf_2013365.tif\n",
      "/home/jupyter-kagone/files/cloud-veg-et/veget/vegetLib/vegetLib/veget.py:326: RuntimeWarning: invalid value encountered in greater\n",
      "  etasw3_boolean = SWi > (0.5 * self.whc)\n",
      "/home/jupyter-kagone/files/cloud-veg-et/veget/vegetLib/vegetLib/veget.py:371: RuntimeWarning: invalid value encountered in greater\n",
      "  SWf_boolean = (SWi > self.whc)\n"
     ]
    },
    {
     "name": "stdout",
     "output_type": "stream",
     "text": [
      "(962, 962)\n",
      "(962, 962)\n",
      "(962, 962)\n",
      "(962, 962)\n",
      "['out', 'DelawareRiverBasin', 'Run09_09_2020', 'tile40N-110E_chip38N-110E']\n",
      "bucket prefix = out/DelawareRiverBasin/Run09_09_2020/tile40N-110E_chip38N-110E\n"
     ]
    },
    {
     "name": "stderr",
     "output_type": "stream",
     "text": [
      "2020-09-09 21:27:45,736 - COOL_RASTERMANAGER - INFO - OUTPUT - TIME - 0.25519811920821667 - out/DelawareRiverBasin/Run09_09_2020/tile40N-110E_chip38N-110E/2013/etasw_2013365.tif\n"
     ]
    },
    {
     "name": "stdout",
     "output_type": "stream",
     "text": [
      "['out', 'DelawareRiverBasin', 'Run09_09_2020', 'tile40N-110E_chip38N-110E']\n",
      "bucket prefix = out/DelawareRiverBasin/Run09_09_2020/tile40N-110E_chip38N-110E\n"
     ]
    },
    {
     "name": "stderr",
     "output_type": "stream",
     "text": [
      "2020-09-09 21:27:46,472 - COOL_RASTERMANAGER - INFO - OUTPUT - TIME - 0.7345969993621111 - out/DelawareRiverBasin/Run09_09_2020/tile40N-110E_chip38N-110E/2013/swf_2013365.tif\n"
     ]
    },
    {
     "name": "stdout",
     "output_type": "stream",
     "text": [
      "['out', 'DelawareRiverBasin', 'Run09_09_2020', 'tile40N-110E_chip38N-110E']\n",
      "bucket prefix = out/DelawareRiverBasin/Run09_09_2020/tile40N-110E_chip38N-110E\n"
     ]
    },
    {
     "name": "stderr",
     "output_type": "stream",
     "text": [
      "2020-09-09 21:27:46,786 - COOL_RASTERMANAGER - INFO - OUTPUT - TIME - 0.3125845044851303 - out/DelawareRiverBasin/Run09_09_2020/tile40N-110E_chip38N-110E/2013/etasw5_2013365.tif\n"
     ]
    },
    {
     "name": "stdout",
     "output_type": "stream",
     "text": [
      "['out', 'DelawareRiverBasin', 'Run09_09_2020', 'tile40N-110E_chip38N-110E']\n",
      "bucket prefix = out/DelawareRiverBasin/Run09_09_2020/tile40N-110E_chip38N-110E\n"
     ]
    },
    {
     "name": "stderr",
     "output_type": "stream",
     "text": [
      "2020-09-09 21:27:47,074 - COOL_RASTERMANAGER - INFO - OUTPUT - TIME - 0.2867125738412142 - out/DelawareRiverBasin/Run09_09_2020/tile40N-110E_chip38N-110E/2013/etc_2013365.tif\n"
     ]
    },
    {
     "name": "stdout",
     "output_type": "stream",
     "text": [
      "['out', 'DelawareRiverBasin', 'Run09_09_2020', 'tile40N-110E_chip38N-110E']\n",
      "bucket prefix = out/DelawareRiverBasin/Run09_09_2020/tile40N-110E_chip38N-110E\n"
     ]
    },
    {
     "name": "stderr",
     "output_type": "stream",
     "text": [
      "2020-09-09 21:27:47,443 - COOL_RASTERMANAGER - INFO - OUTPUT - TIME - 0.3680381793528795 - out/DelawareRiverBasin/Run09_09_2020/tile40N-110E_chip38N-110E/2013/netet_2013365.tif\n"
     ]
    },
    {
     "name": "stdout",
     "output_type": "stream",
     "text": [
      "['out', 'DelawareRiverBasin', 'Run09_09_2020', 'tile40N-110E_chip38N-110E']\n",
      "bucket prefix = out/DelawareRiverBasin/Run09_09_2020/tile40N-110E_chip38N-110E\n"
     ]
    },
    {
     "name": "stderr",
     "output_type": "stream",
     "text": [
      "2020-09-09 21:27:47,732 - COOL_RASTERMANAGER - INFO - OUTPUT - TIME - 0.23955586552619934 - out/DelawareRiverBasin/Run09_09_2020/tile40N-110E_chip38N-110E/2013/etasw_201312.tif\n"
     ]
    },
    {
     "name": "stdout",
     "output_type": "stream",
     "text": [
      "['out', 'DelawareRiverBasin', 'Run09_09_2020', 'tile40N-110E_chip38N-110E']\n",
      "bucket prefix = out/DelawareRiverBasin/Run09_09_2020/tile40N-110E_chip38N-110E\n"
     ]
    },
    {
     "name": "stderr",
     "output_type": "stream",
     "text": [
      "2020-09-09 21:27:47,987 - COOL_RASTERMANAGER - INFO - OUTPUT - TIME - 0.25267052836716175 - out/DelawareRiverBasin/Run09_09_2020/tile40N-110E_chip38N-110E/2013/dd_201312.tif\n"
     ]
    },
    {
     "name": "stdout",
     "output_type": "stream",
     "text": [
      "['out', 'DelawareRiverBasin', 'Run09_09_2020', 'tile40N-110E_chip38N-110E']\n",
      "bucket prefix = out/DelawareRiverBasin/Run09_09_2020/tile40N-110E_chip38N-110E\n"
     ]
    },
    {
     "name": "stderr",
     "output_type": "stream",
     "text": [
      "2020-09-09 21:27:48,374 - COOL_RASTERMANAGER - INFO - OUTPUT - TIME - 0.38634674437344074 - out/DelawareRiverBasin/Run09_09_2020/tile40N-110E_chip38N-110E/2013/srf_201312.tif\n"
     ]
    },
    {
     "name": "stdout",
     "output_type": "stream",
     "text": [
      "['out', 'DelawareRiverBasin', 'Run09_09_2020', 'tile40N-110E_chip38N-110E']\n",
      "bucket prefix = out/DelawareRiverBasin/Run09_09_2020/tile40N-110E_chip38N-110E\n"
     ]
    },
    {
     "name": "stderr",
     "output_type": "stream",
     "text": [
      "2020-09-09 21:27:48,629 - COOL_RASTERMANAGER - INFO - OUTPUT - TIME - 0.2533635403960943 - out/DelawareRiverBasin/Run09_09_2020/tile40N-110E_chip38N-110E/2013/etc_201312.tif\n"
     ]
    },
    {
     "name": "stdout",
     "output_type": "stream",
     "text": [
      "['out', 'DelawareRiverBasin', 'Run09_09_2020', 'tile40N-110E_chip38N-110E']\n",
      "bucket prefix = out/DelawareRiverBasin/Run09_09_2020/tile40N-110E_chip38N-110E\n"
     ]
    },
    {
     "name": "stderr",
     "output_type": "stream",
     "text": [
      "2020-09-09 21:27:48,886 - COOL_RASTERMANAGER - INFO - OUTPUT - TIME - 0.25584876351058483 - out/DelawareRiverBasin/Run09_09_2020/tile40N-110E_chip38N-110E/2013/netet_201312.tif\n"
     ]
    },
    {
     "name": "stdout",
     "output_type": "stream",
     "text": [
      "['out', 'DelawareRiverBasin', 'Run09_09_2020', 'tile40N-110E_chip38N-110E']\n",
      "bucket prefix = out/DelawareRiverBasin/Run09_09_2020/tile40N-110E_chip38N-110E\n"
     ]
    },
    {
     "name": "stderr",
     "output_type": "stream",
     "text": [
      "2020-09-09 21:27:49,330 - COOL_RASTERMANAGER - INFO - OUTPUT - TIME - 0.42769755236804485 - out/DelawareRiverBasin/Run09_09_2020/tile40N-110E_chip38N-110E/etasw_2013.tif\n"
     ]
    },
    {
     "name": "stdout",
     "output_type": "stream",
     "text": [
      "['out', 'DelawareRiverBasin', 'Run09_09_2020', 'tile40N-110E_chip38N-110E']\n",
      "bucket prefix = out/DelawareRiverBasin/Run09_09_2020/tile40N-110E_chip38N-110E\n"
     ]
    },
    {
     "name": "stderr",
     "output_type": "stream",
     "text": [
      "2020-09-09 21:27:49,573 - COOL_RASTERMANAGER - INFO - OUTPUT - TIME - 0.24136667884886265 - out/DelawareRiverBasin/Run09_09_2020/tile40N-110E_chip38N-110E/dd_2013.tif\n"
     ]
    },
    {
     "name": "stdout",
     "output_type": "stream",
     "text": [
      "['out', 'DelawareRiverBasin', 'Run09_09_2020', 'tile40N-110E_chip38N-110E']\n",
      "bucket prefix = out/DelawareRiverBasin/Run09_09_2020/tile40N-110E_chip38N-110E\n"
     ]
    },
    {
     "name": "stderr",
     "output_type": "stream",
     "text": [
      "2020-09-09 21:27:51,495 - COOL_RASTERMANAGER - INFO - OUTPUT - TIME - 1.9206723924726248 - out/DelawareRiverBasin/Run09_09_2020/tile40N-110E_chip38N-110E/srf_2013.tif\n"
     ]
    },
    {
     "name": "stdout",
     "output_type": "stream",
     "text": [
      "['out', 'DelawareRiverBasin', 'Run09_09_2020', 'tile40N-110E_chip38N-110E']\n",
      "bucket prefix = out/DelawareRiverBasin/Run09_09_2020/tile40N-110E_chip38N-110E\n"
     ]
    },
    {
     "name": "stderr",
     "output_type": "stream",
     "text": [
      "2020-09-09 21:27:51,727 - COOL_RASTERMANAGER - INFO - OUTPUT - TIME - 0.23057459481060505 - out/DelawareRiverBasin/Run09_09_2020/tile40N-110E_chip38N-110E/etc_2013.tif\n"
     ]
    },
    {
     "name": "stdout",
     "output_type": "stream",
     "text": [
      "['out', 'DelawareRiverBasin', 'Run09_09_2020', 'tile40N-110E_chip38N-110E']\n",
      "bucket prefix = out/DelawareRiverBasin/Run09_09_2020/tile40N-110E_chip38N-110E\n"
     ]
    },
    {
     "name": "stderr",
     "output_type": "stream",
     "text": [
      "2020-09-09 21:27:52,062 - COOL_RASTERMANAGER - INFO - OUTPUT - TIME - 0.3344644419848919 - out/DelawareRiverBasin/Run09_09_2020/tile40N-110E_chip38N-110E/netet_2013.tif\n",
      "2020-09-09 21:27:52,268 - COOL_RASTERMANAGER - INFO - OUTPUT - TIME - 0.20460369437932968 - out/DelawareRiverBasin/Run09_09_2020/tile40N-110E_chip38N-110E/rain_2013.tif\n"
     ]
    },
    {
     "name": "stdout",
     "output_type": "stream",
     "text": [
      "['out', 'DelawareRiverBasin', 'Run09_09_2020', 'tile40N-110E_chip38N-110E']\n",
      "bucket prefix = out/DelawareRiverBasin/Run09_09_2020/tile40N-110E_chip38N-110E\n",
      "['out', 'DelawareRiverBasin', 'Run09_09_2020', 'tile40N-110E_chip38N-110E']\n",
      "bucket prefix = out/DelawareRiverBasin/Run09_09_2020/tile40N-110E_chip38N-110E\n"
     ]
    },
    {
     "name": "stderr",
     "output_type": "stream",
     "text": [
      "2020-09-09 21:27:52,551 - COOL_RASTERMANAGER - INFO - OUTPUT - TIME - 0.28138762153685093 - out/DelawareRiverBasin/Run09_09_2020/tile40N-110E_chip38N-110E/swe_2013.tif\n",
      "2020-09-09 21:27:52,557 - VegET_CLASS - INFO - DAY - TIME - 20.711164075881243 - 2013-12-31 00:00:00\n"
     ]
    },
    {
     "name": "stdout",
     "output_type": "stream",
     "text": [
      "-------------------------------\n",
      "THE END\n",
      "SAVE LOG\n",
      "dev-et-data out/DelawareRiverBasin/Run09_09_2020/tile40N-110E_chip38N-110E/aaalog/PATHMANAGER.log\n",
      "dev-et-data out/DelawareRiverBasin/Run09_09_2020/tile40N-110E_chip38N-110E/aaalog/COOL_RASTERMANAGER.log\n",
      "dev-et-data out/DelawareRiverBasin/Run09_09_2020/tile40N-110E_chip38N-110E/aaalog/VegET_CLASS.log\n",
      "dev-et-data out/DelawareRiverBasin/Run09_09_2020/tile40N-110E_chip38N-110E/aaalog/BOXY_THINGYS.log\n",
      "dev-et-data out/DelawareRiverBasin/Run09_09_2020/tile40N-110E_chip38N-110E/aaalog/model_param.yml\n",
      "dev-et-data out/DelawareRiverBasin/Run09_09_2020/tile40N-110E_chip38N-110E/aaalog/path_param.yml\n",
      "dev-et-data out/DelawareRiverBasin/Run09_09_2020/tile40N-110E_chip38N-110E/aaalog/run_param.yml\n",
      "CPU times: user 5.71 s, sys: 1.54 s, total: 7.25 s\n",
      "Wall time: 43.1 s\n"
     ]
    }
   ],
   "source": [
    "%%time\n",
    "import os\n",
    "import rasterio\n",
    "from matplotlib import pyplot as plt\n",
    "from s3fs.core import S3FileSystem\n",
    "\n",
    "from vegetLib.veget import VegET\n",
    "# todo add tile param\n",
    "#veggie = VegET(veget_config_path=r'./grid_config', tile='tile40N-110E_chip38N-110E', shp='./AOI/tile40N-110E_chip38N-110E.shp')\n",
    "\n",
    "veggie = VegET(veget_config_path=r'./40yr_grid_config', tile='tile40N-110E_chip38N-110E', shp='./AOI/tile40N-110E_chip38N-110E.shp')\n",
    "\n",
    "veggie.run_veg_et()\n",
    "\n",
    "# s3 = S3FileSystem()\n",
    "# p1 = 'dev-et-data/v1DRB_outputs'\n",
    "# p2 = 'model_outputs/etasw_2015.tif'\n",
    "# p = os.path.join(p1, p2)\n",
    "# #p = 'dev-et-data/NA_data_for_cloud/global_water_mask_inland.tif'\n",
    "\n",
    "# ps3 = s3.open(p)\n",
    "# print(ps3)\n"
   ]
  },
  {
   "cell_type": "code",
   "execution_count": 2,
   "metadata": {},
   "outputs": [],
   "source": [
    "# with rasterio.open(ps3, 'r') as src:\n",
    "    \n",
    "#     plt.imshow(src.read(1), cmap='pink')\n",
    "#     plt.show()"
   ]
  },
  {
   "cell_type": "code",
   "execution_count": 3,
   "metadata": {},
   "outputs": [],
   "source": [
    "# ! cp -r /home/jupyter-kagone/train/etops/grid_veget_c/grid_config/ ."
   ]
  },
  {
   "cell_type": "code",
   "execution_count": 4,
   "metadata": {},
   "outputs": [
    {
     "name": "stdout",
     "output_type": "stream",
     "text": [
      "Wed Sep  9 21:27:53 UTC 2020\r\n"
     ]
    }
   ],
   "source": [
    "!aws s3 ls dev-et-data/tiles/tile40N-110E_chip38N-110E/\n",
    "! date"
   ]
  },
  {
   "cell_type": "code",
   "execution_count": 5,
   "metadata": {},
   "outputs": [],
   "source": [
    "!aws s3 ls dev-et-data/cache/NA_data_for_cloud/ETo_mosaic/"
   ]
  },
  {
   "cell_type": "code",
   "execution_count": 6,
   "metadata": {},
   "outputs": [
    {
     "name": "stdout",
     "output_type": "stream",
     "text": [
      "2020-09-02 23:01:31    7411614 rain_2013.tif\r\n",
      "2020-09-02 20:41:39    7411614 rain_2013275.tif\r\n",
      "2020-09-02 20:41:47    7411614 rain_2013276.tif\r\n",
      "2020-09-02 20:19:24    7411614 rain_2013277.tif\r\n",
      "2020-09-02 20:19:34    7411614 rain_2013278.tif\r\n",
      "2020-09-02 21:55:15    7411614 rain_2013333.tif\r\n",
      "2020-09-02 21:55:23    7411614 rain_2013334.tif\r\n",
      "2020-09-02 21:55:33    7411614 rain_2013335.tif\r\n",
      "2020-09-02 21:55:41    7411614 rain_2013336.tif\r\n",
      "2020-09-02 21:55:53    7411614 rain_2013337.tif\r\n",
      "2020-09-02 21:56:02    7411614 rain_2013338.tif\r\n",
      "2020-09-02 21:56:10    7411614 rain_2013339.tif\r\n",
      "2020-09-02 21:56:19    7411614 rain_2013340.tif\r\n",
      "2020-09-02 21:56:27    7411614 rain_2013341.tif\r\n",
      "2020-09-02 21:56:36    7411614 rain_2013342.tif\r\n",
      "2020-09-02 21:56:44    7411614 rain_2013343.tif\r\n",
      "2020-09-02 21:56:55    7411614 rain_2013344.tif\r\n",
      "2020-09-02 21:57:04    7411614 rain_2013345.tif\r\n",
      "2020-09-02 21:57:13    7411614 rain_2013346.tif\r\n",
      "2020-09-02 21:57:21    7411614 rain_2013347.tif\r\n",
      "2020-09-02 21:57:30    7411614 rain_2013348.tif\r\n",
      "2020-09-02 21:57:39    7411614 rain_2013349.tif\r\n",
      "2020-09-02 21:57:49    7411614 rain_2013350.tif\r\n",
      "2020-09-02 21:57:58    7411614 rain_2013351.tif\r\n",
      "2020-09-02 21:58:07    7411614 rain_2013352.tif\r\n",
      "2020-09-02 22:02:18    7411614 rain_2013353.tif\r\n",
      "2020-09-02 22:02:26    7411614 rain_2013354.tif\r\n",
      "2020-09-02 22:02:34    7411614 rain_2013355.tif\r\n",
      "2020-09-02 22:02:42    7411614 rain_2013356.tif\r\n",
      "2020-09-02 22:02:51    7411614 rain_2013357.tif\r\n",
      "2020-09-02 22:03:00    7411614 rain_2013358.tif\r\n",
      "2020-09-02 23:00:31    7411614 rain_2013359.tif\r\n",
      "2020-09-02 23:00:39    7411614 rain_2013360.tif\r\n",
      "2020-09-02 23:00:46    7411614 rain_2013361.tif\r\n",
      "2020-09-02 23:00:57    7411614 rain_2013362.tif\r\n",
      "2020-09-02 23:01:07    7411614 rain_2013363.tif\r\n",
      "2020-09-02 23:01:15    7411614 rain_2013364.tif\r\n",
      "2020-09-02 23:01:24    7411614 rain_2013365.tif\r\n"
     ]
    }
   ],
   "source": [
    "!aws s3 ls dev-et-data/out/DelawareRiverBasin/Run09_02_2020/tile40N-110E_chip38N-110E/r"
   ]
  },
  {
   "cell_type": "code",
   "execution_count": 7,
   "metadata": {},
   "outputs": [
    {
     "name": "stdout",
     "output_type": "stream",
     "text": [
      "2020-09-02 22:12:48     301191 tile40N-110E_chip38N-110Erun.log\r\n"
     ]
    }
   ],
   "source": [
    "!aws s3 ls dev-et-data/out/DelawareRiverBasin/Run09_02_2020/tile40N-110E_chip38N-110Erun.log"
   ]
  },
  {
   "cell_type": "code",
   "execution_count": 8,
   "metadata": {},
   "outputs": [
    {
     "name": "stdout",
     "output_type": "stream",
     "text": [
      "download failed: s3://dev-et-data/out/DelawareRiverBasin/Run09_08_2020/tile40N-110E_chip38N-110E/aaalog/COOL_RASTERMANAGER to - An error occurred (404) when calling the HeadObject operation: Not Found\r\n"
     ]
    }
   ],
   "source": [
    "!aws s3 cp s3://dev-et-data/out/DelawareRiverBasin/Run09_08_2020/tile40N-110E_chip38N-110E/aaalog/COOL_RASTERMANAGER -"
   ]
  },
  {
   "cell_type": "code",
   "execution_count": 9,
   "metadata": {},
   "outputs": [
    {
     "name": "stdout",
     "output_type": "stream",
     "text": [
      "2020-09-08 22:08:38         63 BOXY_THINGYS.log\r\n",
      "2020-09-08 22:08:38      11782 COOL_RASTERMANAGER.log\r\n",
      "2020-09-08 22:08:38         62 PATHMANAGER.log\r\n",
      "2020-09-08 22:08:38       1165 VegET_CLASS.log\r\n",
      "2020-09-08 22:08:39        497 model_param.yml\r\n",
      "2020-09-08 22:08:39       1991 path_param.yml\r\n",
      "2020-09-08 22:08:39        499 run_param.yml\r\n"
     ]
    }
   ],
   "source": [
    "!aws s3 ls s3://dev-et-data/out/DelawareRiverBasin/Run09_08_2020/tile40N-110E_chip38N-110E/aaalog/"
   ]
  },
  {
   "cell_type": "code",
   "execution_count": 10,
   "metadata": {},
   "outputs": [
    {
     "name": "stdout",
     "output_type": "stream",
     "text": [
      "2020-09-08 22:08:26,616 - VegET_CLASS - INFO - DAY - TIME - 9.038045251742005 - 2013-12-30 00:00:00\r\n",
      "2020-09-08 22:08:37,752 - VegET_CLASS - INFO - DAY - TIME - 11.134556524455547 - 2013-12-31 00:00:00\r\n"
     ]
    }
   ],
   "source": [
    "!aws s3 cp s3://dev-et-data/out/DelawareRiverBasin/Run09_08_2020/tile40N-110E_chip38N-110E/aaalog/VegET_CLASS.log - |grep DAY"
   ]
  },
  {
   "cell_type": "code",
   "execution_count": 11,
   "metadata": {},
   "outputs": [
    {
     "name": "stdout",
     "output_type": "stream",
     "text": [
      "2020-09-08 22:08:38         63 BOXY_THINGYS.log\r\n",
      "2020-09-08 22:08:38      11782 COOL_RASTERMANAGER.log\r\n",
      "2020-09-08 22:08:38         62 PATHMANAGER.log\r\n",
      "2020-09-08 22:08:38       1165 VegET_CLASS.log\r\n",
      "2020-09-08 22:08:39        497 model_param.yml\r\n",
      "2020-09-08 22:08:39       1991 path_param.yml\r\n",
      "2020-09-08 22:08:39        499 run_param.yml\r\n"
     ]
    }
   ],
   "source": [
    "!aws s3 ls s3://dev-et-data/out/DelawareRiverBasin/Run09_08_2020/tile40N-110E_chip38N-110E/aaalog/"
   ]
  },
  {
   "cell_type": "code",
   "execution_count": 12,
   "metadata": {},
   "outputs": [],
   "source": [
    "#!aws s3 rm --recursive s3://dev-et-data/out/DelawareRiverBasin/Run09_08_2020/tile40N-110E_chip38N-110E/aaalog/"
   ]
  },
  {
   "cell_type": "code",
   "execution_count": null,
   "metadata": {},
   "outputs": [],
   "source": []
  }
 ],
 "metadata": {
  "kernelspec": {
   "display_name": "Python 3",
   "language": "python",
   "name": "python3"
  },
  "language_info": {
   "codemirror_mode": {
    "name": "ipython",
    "version": 3
   },
   "file_extension": ".py",
   "mimetype": "text/x-python",
   "name": "python",
   "nbconvert_exporter": "python",
   "pygments_lexer": "ipython3",
   "version": "3.7.3"
  }
 },
 "nbformat": 4,
 "nbformat_minor": 4
}

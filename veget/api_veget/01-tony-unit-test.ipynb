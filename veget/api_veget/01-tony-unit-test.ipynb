{
 "cells": [
  {
   "cell_type": "code",
   "execution_count": 1,
   "metadata": {},
   "outputs": [
    {
     "name": "stderr",
     "output_type": "stream",
     "text": [
      "2020-09-09 16:29:26,539 - BOXY_THINGYS - INFO - Logging Begins\n"
     ]
    },
    {
     "data": {
      "text/plain": [
       "[[-180, 40], [-170, 40], [-170, 30], [-180, 30], [-180, 40]]"
      ]
     },
     "execution_count": 1,
     "metadata": {},
     "output_type": "execute_result"
    }
   ],
   "source": [
    "from vegetLib.box_poly import box_make_poly\n",
    "\n",
    "box_make_poly('40N-180E')"
   ]
  },
  {
   "cell_type": "code",
   "execution_count": 2,
   "metadata": {},
   "outputs": [
    {
     "name": "stdout",
     "output_type": "stream",
     "text": [
      "40N-80E.json  temp_1.tif  temp_3.tif  temp_5.tif\r\n",
      "temp_0.tif    temp_2.tif  temp_4.tif\r\n"
     ]
    }
   ],
   "source": [
    "!ls 40N-80E"
   ]
  },
  {
   "cell_type": "code",
   "execution_count": 3,
   "metadata": {},
   "outputs": [
    {
     "ename": "ImportError",
     "evalue": "cannot import name 'box_clip_by_geojson' from 'vegetLib.box_poly' (/home/jupyter-kagone/files/cloud-veg-et/veget/vegetLib/vegetLib/box_poly.py)",
     "output_type": "error",
     "traceback": [
      "\u001b[0;31m---------------------------------------------------------------------------\u001b[0m",
      "\u001b[0;31mImportError\u001b[0m                               Traceback (most recent call last)",
      "\u001b[0;32m<ipython-input-3-b736ccc2993c>\u001b[0m in \u001b[0;36m<module>\u001b[0;34m\u001b[0m\n\u001b[0;32m----> 1\u001b[0;31m \u001b[0;32mfrom\u001b[0m \u001b[0mvegetLib\u001b[0m\u001b[0;34m.\u001b[0m\u001b[0mbox_poly\u001b[0m \u001b[0;32mimport\u001b[0m \u001b[0mbox_clip_by_geojson\u001b[0m\u001b[0;34m\u001b[0m\u001b[0;34m\u001b[0m\u001b[0m\n\u001b[0m\u001b[1;32m      2\u001b[0m \u001b[0;34m\u001b[0m\u001b[0m\n\u001b[1;32m      3\u001b[0m \u001b[0minfile\u001b[0m \u001b[0;34m=\u001b[0m \u001b[0;34m'/vsis3/dev-et-data/NDVI_filled/2001/2001001.250_m_NDVI.tif'\u001b[0m\u001b[0;34m\u001b[0m\u001b[0;34m\u001b[0m\u001b[0m\n\u001b[1;32m      4\u001b[0m \u001b[0moutfile\u001b[0m \u001b[0;34m=\u001b[0m \u001b[0;34m'./40N-80E/reference_geotiff.tif'\u001b[0m\u001b[0;34m\u001b[0m\u001b[0;34m\u001b[0m\u001b[0m\n\u001b[1;32m      5\u001b[0m \u001b[0mgeojson_file\u001b[0m \u001b[0;34m=\u001b[0m \u001b[0;34m'./40N-80E/40N-80E.json'\u001b[0m\u001b[0;34m\u001b[0m\u001b[0;34m\u001b[0m\u001b[0m\n",
      "\u001b[0;31mImportError\u001b[0m: cannot import name 'box_clip_by_geojson' from 'vegetLib.box_poly' (/home/jupyter-kagone/files/cloud-veg-et/veget/vegetLib/vegetLib/box_poly.py)"
     ]
    }
   ],
   "source": [
    "from vegetLib.box_poly import box_clip_by_geojson\n",
    "\n",
    "infile = '/vsis3/dev-et-data/NDVI_filled/2001/2001001.250_m_NDVI.tif'\n",
    "outfile = './40N-80E/reference_geotiff.tif'\n",
    "geojson_file = './40N-80E/40N-80E.json'\n",
    "box_clip_by_geojson(infile,outfile, geojson_file, nan='zero')\n"
   ]
  },
  {
   "cell_type": "code",
   "execution_count": null,
   "metadata": {},
   "outputs": [],
   "source": [
    "! cat ../vegetLib/vegetLib/box_poly.py |tail -37"
   ]
  },
  {
   "cell_type": "code",
   "execution_count": null,
   "metadata": {},
   "outputs": [],
   "source": [
    "! aws s3 ls dev-et-data/NDVI_filled/2001/2001001.250_m_NDVI.tif"
   ]
  },
  {
   "cell_type": "code",
   "execution_count": null,
   "metadata": {},
   "outputs": [],
   "source": [
    "#! (cd ../vegetLib; make)"
   ]
  },
  {
   "cell_type": "code",
   "execution_count": null,
   "metadata": {},
   "outputs": [],
   "source": [
    "#! pip install --user geopandas"
   ]
  },
  {
   "cell_type": "code",
   "execution_count": null,
   "metadata": {},
   "outputs": [],
   "source": []
  }
 ],
 "metadata": {
  "kernelspec": {
   "display_name": "Python 3",
   "language": "python",
   "name": "python3"
  },
  "language_info": {
   "codemirror_mode": {
    "name": "ipython",
    "version": 3
   },
   "file_extension": ".py",
   "mimetype": "text/x-python",
   "name": "python",
   "nbconvert_exporter": "python",
   "pygments_lexer": "ipython3",
   "version": "3.7.3"
  }
 },
 "nbformat": 4,
 "nbformat_minor": 4
}

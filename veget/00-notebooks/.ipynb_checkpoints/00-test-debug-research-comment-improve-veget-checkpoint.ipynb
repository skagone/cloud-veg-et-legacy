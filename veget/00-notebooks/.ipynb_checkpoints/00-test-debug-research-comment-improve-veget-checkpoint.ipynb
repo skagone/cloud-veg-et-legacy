{
 "cells": [
  {
   "cell_type": "code",
   "execution_count": 1,
   "metadata": {},
   "outputs": [],
   "source": [
    "from vegetLib.veget import VegET"
   ]
  },
  {
   "cell_type": "code",
   "execution_count": 2,
   "metadata": {},
   "outputs": [],
   "source": [
    "#! cp -r ../api_veget/sample_config/ ."
   ]
  },
  {
   "cell_type": "code",
   "execution_count": 3,
   "metadata": {},
   "outputs": [
    {
     "name": "stdout",
     "output_type": "stream",
     "text": [
      "{'start_year': 2015, 'end_year': 2015, 'start_day': 1, 'end_day': 3, 'accumulate_mode': ['daily'], 'geojson_file': 'a.json', 'shapefile': 'C:\\\\WaterSmart\\\\Projects\\\\CloudVegET\\\\shapefiles\\\\out_box.shp', 'sample_tiff': 'C:\\\\WaterSmart\\\\Projects\\\\CloudVegET\\\\local_testing\\\\ndvi\\\\med001.250_m_NDVI.tif'}\n",
      "{'rf_low_thresh_temp': 0, 'rf_high_thresh_temp': 6, 'rf_value': 0.167, 'melt_factor': 0.06, 'dc_coeff': 0.65, 'rf_coeff': 0.35, 'k_factor': 1.25, 'ndvi_factor': 0.2, 'water_factor': 0.7, 'bias_corr': 0.85, 'alfa_factor': 1.25}\n",
      "{'start_year': 2015, 'end_year': 2015, 'start_day': 1, 'end_day': 3, 'accumulate_mode': ['daily'], 'geojson_file': 'a.json', 'shapefile': 'C:\\\\WaterSmart\\\\Projects\\\\CloudVegET\\\\shapefiles\\\\out_box.shp', 'sample_tiff': 'C:\\\\WaterSmart\\\\Projects\\\\CloudVegET\\\\local_testing\\\\ndvi\\\\med001.250_m_NDVI.tif', 'rf_low_thresh_temp': 0, 'rf_high_thresh_temp': 6, 'rf_value': 0.167, 'melt_factor': 0.06, 'dc_coeff': 0.65, 'rf_coeff': 0.35, 'k_factor': 1.25, 'ndvi_factor': 0.2, 'water_factor': 0.7, 'bias_corr': 0.85, 'alfa_factor': 1.25}\n",
      "------------------------------------------------------------------------------------------\n",
      "{'start_year': 2015, 'end_year': 2015, 'start_day': 1, 'end_day': 3, 'accumulate_mode': ['daily'], 'geojson_file': 'a.json', 'shapefile': 'C:\\\\WaterSmart\\\\Projects\\\\CloudVegET\\\\shapefiles\\\\out_box.shp', 'sample_tiff': 'C:\\\\WaterSmart\\\\Projects\\\\CloudVegET\\\\local_testing\\\\ndvi\\\\med001.250_m_NDVI.tif', 'rf_low_thresh_temp': 0, 'rf_high_thresh_temp': 6, 'rf_value': 0.167, 'melt_factor': 0.06, 'dc_coeff': 0.65, 'rf_coeff': 0.35, 'k_factor': 1.25, 'ndvi_factor': 0.2, 'water_factor': 0.7, 'bias_corr': 0.85, 'alfa_factor': 1.25}\n",
      "1\n",
      "1 3 2015 2015\n",
      "['daily']\n"
     ]
    },
    {
     "ename": "SystemExit",
     "evalue": "0",
     "output_type": "error",
     "traceback": [
      "An exception has occurred, use %tb to see the full traceback.\n",
      "\u001b[0;31mSystemExit\u001b[0m\u001b[0;31m:\u001b[0m 0\n"
     ]
    },
    {
     "name": "stderr",
     "output_type": "stream",
     "text": [
      "/opt/tljh/user/lib/python3.7/site-packages/IPython/core/interactiveshell.py:3339: UserWarning: To exit: use 'exit', 'quit', or Ctrl-D.\n",
      "  warn(\"To exit: use 'exit', 'quit', or Ctrl-D.\", stacklevel=1)\n"
     ]
    }
   ],
   "source": [
    "veget = VegET(veget_config_path='./sample_config')"
   ]
  },
  {
   "cell_type": "code",
   "execution_count": 4,
   "metadata": {},
   "outputs": [
    {
     "name": "stdout",
     "output_type": "stream",
     "text": [
      "model_param.yml  path_param.yml  run_param.yml\r\n"
     ]
    }
   ],
   "source": [
    "!ls sample_config/\n"
   ]
  },
  {
   "cell_type": "code",
   "execution_count": 5,
   "metadata": {},
   "outputs": [
    {
     "name": "stdout",
     "output_type": "stream",
     "text": [
      "# ================ ACTIVE config SECTION ==============================\r\n",
      "# === Minimalist Beta Version Params ====\r\n",
      "start_year: 2015\r\n",
      "end_year: 2015\r\n",
      "start_day: 001\r\n",
      "end_day: 003\r\n",
      "\r\n",
      "accumulate_mode: [daily] #[yearly, monthly, daily]\r\n",
      "\r\n",
      "geojson_file: a.json\r\n",
      "shapefile: C:\\WaterSmart\\Projects\\CloudVegET\\shapefiles\\out_box.shp\r\n",
      "# sample tiff could/should be derived from the geojson clip of the ndvi - or maybe not needed - tbd\r\n",
      "sample_tiff: C:\\WaterSmart\\Projects\\CloudVegET\\local_testing\\ndvi\\med001.250_m_NDVI.tif\r\n"
     ]
    }
   ],
   "source": [
    "! cat sample_config/run_param.yml"
   ]
  },
  {
   "cell_type": "code",
   "execution_count": 6,
   "metadata": {},
   "outputs": [
    {
     "name": "stdout",
     "output_type": "stream",
     "text": [
      "# === Parameters set by Gabriel Senay ====\r\n",
      "# defining low and high temperature values (in C°) to determine what is snow, sleet, rain\r\n",
      "rf_low_thresh_temp: 0\r\n",
      "rf_high_thresh_temp: 6\r\n",
      "rf_value: 0.167\r\n",
      "melt_factor: 0.06\r\n",
      "\r\n",
      "# drainage coefficient = 1 - runoff coefficient\r\n",
      "dc_coeff: 0.65\r\n",
      "# 1 - dc_coeff\r\n",
      "rf_coeff: 0.35\r\n",
      "\r\n",
      "# constant values to adjust NDVI in the ET calculation\r\n",
      "k_factor: 1.25\r\n",
      "ndvi_factor: 0.2\r\n",
      "# water adjustment\r\n",
      "water_factor: 0.7\r\n",
      "# reference ET bias correction\r\n",
      "bias_corr: 0.85\r\n",
      "alfa_factor: 1.25\r\n"
     ]
    }
   ],
   "source": [
    "! cat sample_config/model_param.yml"
   ]
  },
  {
   "cell_type": "code",
   "execution_count": 7,
   "metadata": {},
   "outputs": [
    {
     "name": "stdout",
     "output_type": "stream",
     "text": [
      "# Can we take the crs\r\n",
      "\r\n",
      "# input location\r\n",
      "in_root: C:\\WaterSmart\\Projects\\CloudVegET\\local_testing\r\n",
      "# output_location\r\n",
      "out_root: C:\\WaterSmart\\Projects\\CloudVegET\\local_testing\\zztestout\r\n",
      "# temporary folder for rasterio vrt -> npy conversion\r\n",
      "temp_folder: junkbox\r\n",
      "# Dataset info\r\n",
      "precip_settings:\r\n",
      "  name_fmt: prec_{}.tif\r\n",
      "  dt_fmt: YYYYdoy\r\n",
      "  dir_loc: C:\\WaterSmart\\Projects\\CloudVegET\\local_testing\\ppt  #ga-et-data/Cloud_Veg_ET/Data/PPT/\r\n",
      "  climatology: False\r\n",
      "  na_vals: []\r\n",
      "ndvi_settings:\r\n",
      "  name_fmt: med{}.250_m_NDVI.tif\r\n",
      "  dt_fmt: doy\r\n",
      "  dir_loc: C:\\WaterSmart\\Projects\\CloudVegET\\local_testing\\ndvi\r\n",
      "  climatology: True\r\n",
      "pet_settings:\r\n",
      "  name_fmt: medianETo{}.tif\r\n",
      "  dt_fmt: doy\r\n",
      "  dir_loc: C:\\WaterSmart\\Projects\\CloudVegET\\local_testing\\eto\r\n",
      "  climatology: True\r\n",
      "tmin_settings:\r\n",
      "  name_fmt: tmin_{}.tif\r\n",
      "  dt_fmt: doy\r\n",
      "  dir_loc: C:\\WaterSmart\\Projects\\CloudVegET\\local_testing\\tmin\r\n",
      "  climatology: True\r\n",
      "tavg_settings:\r\n",
      "  name_fmt: tavg_{}.tif\r\n",
      "  dt_fmt: doy\r\n",
      "  dir_loc: C:\\WaterSmart\\Projects\\CloudVegET\\local_testing\\tavg\r\n",
      "  climatology: True\r\n",
      "tmax_settings:\r\n",
      "  name_fmt: tmax_{}.tif\r\n",
      "  dt_fmt: doy\r\n",
      "  dir_loc: C:\\WaterSmart\\Projects\\CloudVegET\\local_testing\\tmax\r\n",
      "  climatology: True\r\n",
      "\r\n",
      "\r\n",
      "# === Static raster data settings ====\r\n",
      "watermask_settings:\r\n",
      "  file_loc: C:\\WaterSmart\\Projects\\CloudVegET\\local_testing\\global_water_mask_inland.tif\r\n",
      "whc_settings:\r\n",
      "  file_loc: C:\\WaterSmart\\Projects\\CloudVegET\\local_testing\\soil\\available_water_capacity_US_final.tif\r\n",
      "saturation_settings:\r\n",
      "  file_loc: C:\\WaterSmart\\Projects\\CloudVegET\\local_testing\\soil\\porosity_US_final.tif\r\n",
      "field_capacity_settings:\r\n",
      "  file_loc: C:\\WaterSmart\\Projects\\CloudVegET\\local_testing\\soil\\field_capacity_US_final.tif\r\n",
      "interception_settings:\r\n",
      "  file_loc: C:\\WaterSmart\\Projects\\CloudVegET\\local_testing\\soil\\Intercept_global3.tif\r\n"
     ]
    }
   ],
   "source": [
    "! cat sample_config/path_param.yml"
   ]
  },
  {
   "cell_type": "code",
   "execution_count": null,
   "metadata": {},
   "outputs": [],
   "source": []
  }
 ],
 "metadata": {
  "kernelspec": {
   "display_name": "Python 3",
   "language": "python",
   "name": "python3"
  },
  "language_info": {
   "codemirror_mode": {
    "name": "ipython",
    "version": 3
   },
   "file_extension": ".py",
   "mimetype": "text/x-python",
   "name": "python",
   "nbconvert_exporter": "python",
   "pygments_lexer": "ipython3",
   "version": "3.7.3"
  }
 },
 "nbformat": 4,
 "nbformat_minor": 4
}

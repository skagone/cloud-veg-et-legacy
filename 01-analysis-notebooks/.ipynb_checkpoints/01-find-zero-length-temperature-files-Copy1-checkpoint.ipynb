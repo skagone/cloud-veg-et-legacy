{
 "cells": [
  {
   "cell_type": "code",
   "execution_count": 13,
   "metadata": {},
   "outputs": [],
   "source": [
    "import boto3"
   ]
  },
  {
   "cell_type": "code",
   "execution_count": 14,
   "metadata": {},
   "outputs": [],
   "source": [
    "def return_s3_list(working_bucket, prefix):\n",
    "        aws_list = []\n",
    "        s3 = boto3.resource('s3')\n",
    "        bucket_name = working_bucket\n",
    "        bucket = s3.Bucket(bucket_name)\n",
    "        for obj in bucket.objects.filter(Prefix=prefix):\n",
    "            obj_key = obj.key\n",
    "            obj_key = working_bucket + '/' + obj_key\n",
    "            aws_list.append((obj_key, obj.size))\n",
    "        return aws_list"
   ]
  },
  {
   "cell_type": "code",
   "execution_count": 15,
   "metadata": {},
   "outputs": [],
   "source": [
    "working_bucket='dev-et-data'\n",
    "prefix='in/NorthAmerica/Temp/daily/tavg/1995'\n",
    "\n",
    "the_list = return_s3_list(working_bucket, prefix)"
   ]
  },
  {
   "cell_type": "code",
   "execution_count": 16,
   "metadata": {},
   "outputs": [],
   "source": [
    "def print_badboys(the_list):\n",
    "    zero_files = []\n",
    "    for (name,len) in the_list:\n",
    "        #print(len)\n",
    "        if (len < 10):\n",
    "            print(name)\n",
    "            zero_files.append(name)\n",
    "    return zero_files"
   ]
  },
  {
   "cell_type": "code",
   "execution_count": 18,
   "metadata": {},
   "outputs": [
    {
     "name": "stdout",
     "output_type": "stream",
     "text": [
      "dev-et-data/in/NorthAmerica/Temp/daily/tavg/1995/tavg_1995094.tif\n",
      "dev-et-data/in/NorthAmerica/Temp/daily/tavg/1995/tavg_1995304.tif.aux.xml\n"
     ]
    },
    {
     "data": {
      "text/plain": [
       "['dev-et-data/in/NorthAmerica/Temp/daily/tavg/1995/tavg_1995094.tif',\n",
       " 'dev-et-data/in/NorthAmerica/Temp/daily/tavg/1995/tavg_1995304.tif.aux.xml']"
      ]
     },
     "execution_count": 18,
     "metadata": {},
     "output_type": "execute_result"
    }
   ],
   "source": [
    "aaa = print_badboys(the_list)\n",
    "aaa"
   ]
  },
  {
   "cell_type": "code",
   "execution_count": 6,
   "metadata": {},
   "outputs": [
    {
     "name": "stdout",
     "output_type": "stream",
     "text": [
      "1995\n",
      "in/NorthAmerica/Temp/daily/tavg/1995\n",
      "dev-et-data/in/NorthAmerica/Temp/daily/tavg/1995/tavg_1995094.tif\n",
      "dev-et-data/in/NorthAmerica/Temp/daily/tavg/1995/tavg_1995304.tif.aux.xml\n",
      "1996\n",
      "in/NorthAmerica/Temp/daily/tavg/1996\n",
      "dev-et-data/in/NorthAmerica/Temp/daily/tavg/1996/tavg_1996170.tif\n",
      "1997\n",
      "in/NorthAmerica/Temp/daily/tavg/1997\n",
      "1998\n",
      "in/NorthAmerica/Temp/daily/tavg/1998\n",
      "1999\n",
      "in/NorthAmerica/Temp/daily/tavg/1999\n"
     ]
    }
   ],
   "source": [
    "years = range(1995,2000)\n",
    "\n",
    "for year in years:\n",
    "    print(year)\n",
    "    prefix=f'in/NorthAmerica/Temp/daily/tavg/{year}'\n",
    "    print(prefix)\n",
    "    the_list = return_s3_list(working_bucket, prefix)\n",
    "    print_badboys(the_list)"
   ]
  },
  {
   "cell_type": "code",
   "execution_count": 7,
   "metadata": {},
   "outputs": [
    {
     "name": "stdout",
     "output_type": "stream",
     "text": [
      "1986\n",
      "in/NorthAmerica/Temp/daily/tmin/1986\n",
      "1987\n",
      "in/NorthAmerica/Temp/daily/tmin/1987\n",
      "1988\n",
      "in/NorthAmerica/Temp/daily/tmin/1988\n",
      "dev-et-data/in/NorthAmerica/Temp/daily/tmin/1988/tmin_1988317.tif.ovr\n",
      "1989\n",
      "in/NorthAmerica/Temp/daily/tmin/1989\n",
      "1990\n",
      "in/NorthAmerica/Temp/daily/tmin/1990\n",
      "1991\n",
      "in/NorthAmerica/Temp/daily/tmin/1991\n",
      "1992\n",
      "in/NorthAmerica/Temp/daily/tmin/1992\n",
      "1993\n",
      "in/NorthAmerica/Temp/daily/tmin/1993\n",
      "1994\n",
      "in/NorthAmerica/Temp/daily/tmin/1994\n",
      "1995\n",
      "in/NorthAmerica/Temp/daily/tmin/1995\n",
      "1996\n",
      "in/NorthAmerica/Temp/daily/tmin/1996\n",
      "1997\n",
      "in/NorthAmerica/Temp/daily/tmin/1997\n",
      "1998\n",
      "in/NorthAmerica/Temp/daily/tmin/1998\n",
      "1999\n",
      "in/NorthAmerica/Temp/daily/tmin/1999\n"
     ]
    }
   ],
   "source": [
    "years = range(1986,2000)\n",
    "\n",
    "for year in years:\n",
    "    print(year)\n",
    "    prefix=f'in/NorthAmerica/Temp/daily/tmin/{year}'\n",
    "    print(prefix)\n",
    "    the_list = return_s3_list(working_bucket, prefix)\n",
    "    print_badboys(the_list)"
   ]
  },
  {
   "cell_type": "code",
   "execution_count": 23,
   "metadata": {},
   "outputs": [
    {
     "name": "stdout",
     "output_type": "stream",
     "text": [
      "1980\n",
      "in/NorthAmerica/Temp/daily/tmin/1980\n",
      "1981\n",
      "in/NorthAmerica/Temp/daily/tmin/1981\n",
      "1982\n",
      "in/NorthAmerica/Temp/daily/tmin/1982\n",
      "1983\n",
      "in/NorthAmerica/Temp/daily/tmin/1983\n",
      "1984\n",
      "in/NorthAmerica/Temp/daily/tmin/1984\n",
      "1985\n",
      "in/NorthAmerica/Temp/daily/tmin/1985\n",
      "1986\n",
      "in/NorthAmerica/Temp/daily/tmin/1986\n",
      "1987\n",
      "in/NorthAmerica/Temp/daily/tmin/1987\n",
      "1988\n",
      "in/NorthAmerica/Temp/daily/tmin/1988\n",
      "dev-et-data/in/NorthAmerica/Temp/daily/tmin/1988/tmin_1988317.tif.ovr\n",
      "1989\n",
      "in/NorthAmerica/Temp/daily/tmin/1989\n",
      "1990\n",
      "in/NorthAmerica/Temp/daily/tmin/1990\n",
      "1991\n",
      "in/NorthAmerica/Temp/daily/tmin/1991\n",
      "1992\n",
      "in/NorthAmerica/Temp/daily/tmin/1992\n",
      "1993\n",
      "in/NorthAmerica/Temp/daily/tmin/1993\n",
      "1994\n",
      "in/NorthAmerica/Temp/daily/tmin/1994\n",
      "1995\n",
      "in/NorthAmerica/Temp/daily/tmin/1995\n",
      "1996\n",
      "in/NorthAmerica/Temp/daily/tmin/1996\n",
      "1997\n",
      "in/NorthAmerica/Temp/daily/tmin/1997\n",
      "1998\n",
      "in/NorthAmerica/Temp/daily/tmin/1998\n",
      "1999\n",
      "in/NorthAmerica/Temp/daily/tmin/1999\n",
      "2000\n",
      "in/NorthAmerica/Temp/daily/tmin/2000\n",
      "2001\n",
      "in/NorthAmerica/Temp/daily/tmin/2001\n",
      "2002\n",
      "in/NorthAmerica/Temp/daily/tmin/2002\n",
      "dev-et-data/in/NorthAmerica/Temp/daily/tmin/2002/tmin_2002183.tif.ovr\n",
      "2003\n",
      "in/NorthAmerica/Temp/daily/tmin/2003\n",
      "2004\n",
      "in/NorthAmerica/Temp/daily/tmin/2004\n",
      "dev-et-data/in/NorthAmerica/Temp/daily/tmin/2004/tmin_2004115.tif.aux.xml\n",
      "2005\n",
      "in/NorthAmerica/Temp/daily/tmin/2005\n",
      "2006\n",
      "in/NorthAmerica/Temp/daily/tmin/2006\n",
      "dev-et-data/in/NorthAmerica/Temp/daily/tmin/2006/tmin_2006289.tif.xml\n",
      "2007\n",
      "in/NorthAmerica/Temp/daily/tmin/2007\n",
      "2008\n",
      "in/NorthAmerica/Temp/daily/tmin/2008\n",
      "2009\n",
      "in/NorthAmerica/Temp/daily/tmin/2009\n",
      "2010\n",
      "in/NorthAmerica/Temp/daily/tmin/2010\n",
      "2011\n",
      "in/NorthAmerica/Temp/daily/tmin/2011\n",
      "2012\n",
      "in/NorthAmerica/Temp/daily/tmin/2012\n",
      "2013\n",
      "in/NorthAmerica/Temp/daily/tmin/2013\n",
      "2014\n",
      "in/NorthAmerica/Temp/daily/tmin/2014\n",
      "dev-et-data/in/NorthAmerica/Temp/daily/tmin/2014/tmin_2014250.tif.aux.xml\n",
      "2015\n",
      "in/NorthAmerica/Temp/daily/tmin/2015\n",
      "2016\n",
      "in/NorthAmerica/Temp/daily/tmin/2016\n",
      "2017\n",
      "in/NorthAmerica/Temp/daily/tmin/2017\n",
      "dev-et-data/in/NorthAmerica/Temp/daily/tmin/2017/tmin_2017143.tif\n",
      "2018\n",
      "in/NorthAmerica/Temp/daily/tmin/2018\n",
      "2019\n",
      "in/NorthAmerica/Temp/daily/tmin/2019\n"
     ]
    }
   ],
   "source": [
    "years = range(1980,2020)\n",
    "\n",
    "tmin_list = []\n",
    "for year in years:\n",
    "    print(year)\n",
    "    prefix=f'in/NorthAmerica/Temp/daily/tmin/{year}'\n",
    "    print(prefix)\n",
    "    the_list = return_s3_list(working_bucket, prefix)\n",
    "    bb_list = print_badboys(the_list)\n",
    "    for item in bb_list:\n",
    "        tmin_list.append(item)"
   ]
  },
  {
   "cell_type": "code",
   "execution_count": 24,
   "metadata": {},
   "outputs": [
    {
     "data": {
      "text/plain": [
       "['dev-et-data/in/NorthAmerica/Temp/daily/tmin/1988/tmin_1988317.tif.ovr',\n",
       " 'dev-et-data/in/NorthAmerica/Temp/daily/tmin/2002/tmin_2002183.tif.ovr',\n",
       " 'dev-et-data/in/NorthAmerica/Temp/daily/tmin/2004/tmin_2004115.tif.aux.xml',\n",
       " 'dev-et-data/in/NorthAmerica/Temp/daily/tmin/2006/tmin_2006289.tif.xml',\n",
       " 'dev-et-data/in/NorthAmerica/Temp/daily/tmin/2014/tmin_2014250.tif.aux.xml',\n",
       " 'dev-et-data/in/NorthAmerica/Temp/daily/tmin/2017/tmin_2017143.tif']"
      ]
     },
     "execution_count": 24,
     "metadata": {},
     "output_type": "execute_result"
    }
   ],
   "source": [
    "tmin_list"
   ]
  },
  {
   "cell_type": "code",
   "execution_count": 25,
   "metadata": {},
   "outputs": [
    {
     "name": "stdout",
     "output_type": "stream",
     "text": [
      "1980\n",
      "in/NorthAmerica/Temp/daily/tavg/1980\n",
      "1981\n",
      "in/NorthAmerica/Temp/daily/tavg/1981\n",
      "1982\n",
      "in/NorthAmerica/Temp/daily/tavg/1982\n",
      "1983\n",
      "in/NorthAmerica/Temp/daily/tavg/1983\n",
      "1984\n",
      "in/NorthAmerica/Temp/daily/tavg/1984\n",
      "1985\n",
      "in/NorthAmerica/Temp/daily/tavg/1985\n",
      "1986\n",
      "in/NorthAmerica/Temp/daily/tavg/1986\n",
      "1987\n",
      "in/NorthAmerica/Temp/daily/tavg/1987\n",
      "dev-et-data/in/NorthAmerica/Temp/daily/tavg/1987/tavg_1987119.tif\n",
      "1988\n",
      "in/NorthAmerica/Temp/daily/tavg/1988\n",
      "1989\n",
      "in/NorthAmerica/Temp/daily/tavg/1989\n",
      "1990\n",
      "in/NorthAmerica/Temp/daily/tavg/1990\n",
      "1991\n",
      "in/NorthAmerica/Temp/daily/tavg/1991\n",
      "1992\n",
      "in/NorthAmerica/Temp/daily/tavg/1992\n",
      "1993\n",
      "in/NorthAmerica/Temp/daily/tavg/1993\n",
      "1994\n",
      "in/NorthAmerica/Temp/daily/tavg/1994\n",
      "1995\n",
      "in/NorthAmerica/Temp/daily/tavg/1995\n",
      "dev-et-data/in/NorthAmerica/Temp/daily/tavg/1995/tavg_1995094.tif\n",
      "dev-et-data/in/NorthAmerica/Temp/daily/tavg/1995/tavg_1995304.tif.aux.xml\n",
      "1996\n",
      "in/NorthAmerica/Temp/daily/tavg/1996\n",
      "dev-et-data/in/NorthAmerica/Temp/daily/tavg/1996/tavg_1996170.tif\n",
      "1997\n",
      "in/NorthAmerica/Temp/daily/tavg/1997\n",
      "1998\n",
      "in/NorthAmerica/Temp/daily/tavg/1998\n",
      "1999\n",
      "in/NorthAmerica/Temp/daily/tavg/1999\n",
      "2000\n",
      "in/NorthAmerica/Temp/daily/tavg/2000\n",
      "2001\n",
      "in/NorthAmerica/Temp/daily/tavg/2001\n",
      "2002\n",
      "in/NorthAmerica/Temp/daily/tavg/2002\n",
      "dev-et-data/in/NorthAmerica/Temp/daily/tavg/2002/tavg_2002267.tif\n",
      "2003\n",
      "in/NorthAmerica/Temp/daily/tavg/2003\n",
      "2004\n",
      "in/NorthAmerica/Temp/daily/tavg/2004\n",
      "dev-et-data/in/NorthAmerica/Temp/daily/tavg/2004/tavg_2004302.tif\n",
      "dev-et-data/in/NorthAmerica/Temp/daily/tavg/2004/tavg_2004362.tfw\n",
      "2005\n",
      "in/NorthAmerica/Temp/daily/tavg/2005\n",
      "2006\n",
      "in/NorthAmerica/Temp/daily/tavg/2006\n",
      "dev-et-data/in/NorthAmerica/Temp/daily/tavg/2006/tavg_2006356.tif\n",
      "2007\n",
      "in/NorthAmerica/Temp/daily/tavg/2007\n",
      "2008\n",
      "in/NorthAmerica/Temp/daily/tavg/2008\n",
      "dev-et-data/in/NorthAmerica/Temp/daily/tavg/2008/tavg_2008224.tif\n",
      "2009\n",
      "in/NorthAmerica/Temp/daily/tavg/2009\n",
      "2010\n",
      "in/NorthAmerica/Temp/daily/tavg/2010\n",
      "2011\n",
      "in/NorthAmerica/Temp/daily/tavg/2011\n",
      "2012\n",
      "in/NorthAmerica/Temp/daily/tavg/2012\n",
      "2013\n",
      "in/NorthAmerica/Temp/daily/tavg/2013\n",
      "2014\n",
      "in/NorthAmerica/Temp/daily/tavg/2014\n",
      "2015\n",
      "in/NorthAmerica/Temp/daily/tavg/2015\n",
      "2016\n",
      "in/NorthAmerica/Temp/daily/tavg/2016\n",
      "2017\n",
      "in/NorthAmerica/Temp/daily/tavg/2017\n",
      "2018\n",
      "in/NorthAmerica/Temp/daily/tavg/2018\n",
      "2019\n",
      "in/NorthAmerica/Temp/daily/tavg/2019\n"
     ]
    },
    {
     "data": {
      "text/plain": [
       "['dev-et-data/in/NorthAmerica/Temp/daily/tavg/1987/tavg_1987119.tif',\n",
       " 'dev-et-data/in/NorthAmerica/Temp/daily/tavg/1995/tavg_1995094.tif',\n",
       " 'dev-et-data/in/NorthAmerica/Temp/daily/tavg/1995/tavg_1995304.tif.aux.xml',\n",
       " 'dev-et-data/in/NorthAmerica/Temp/daily/tavg/1996/tavg_1996170.tif',\n",
       " 'dev-et-data/in/NorthAmerica/Temp/daily/tavg/2002/tavg_2002267.tif',\n",
       " 'dev-et-data/in/NorthAmerica/Temp/daily/tavg/2004/tavg_2004302.tif',\n",
       " 'dev-et-data/in/NorthAmerica/Temp/daily/tavg/2004/tavg_2004362.tfw',\n",
       " 'dev-et-data/in/NorthAmerica/Temp/daily/tavg/2006/tavg_2006356.tif',\n",
       " 'dev-et-data/in/NorthAmerica/Temp/daily/tavg/2008/tavg_2008224.tif']"
      ]
     },
     "execution_count": 25,
     "metadata": {},
     "output_type": "execute_result"
    }
   ],
   "source": [
    "years = range(1980,2020)\n",
    "\n",
    "tavg_list = []\n",
    "for year in years:\n",
    "    print(year)\n",
    "    prefix=f'in/NorthAmerica/Temp/daily/tavg/{year}'\n",
    "    print(prefix)\n",
    "    the_list = return_s3_list(working_bucket, prefix)\n",
    "    bb_list = print_badboys(the_list)\n",
    "    for item in bb_list:\n",
    "        tavg_list.append(item)\n",
    "\n",
    "tavg_list"
   ]
  },
  {
   "cell_type": "code",
   "execution_count": 26,
   "metadata": {},
   "outputs": [
    {
     "name": "stdout",
     "output_type": "stream",
     "text": [
      "1980\n",
      "in/NorthAmerica/Temp/daily/tmax/1980\n",
      "dev-et-data/in/NorthAmerica/Temp/daily/tmax/1980/tmax_1980241.tfw\n",
      "1981\n",
      "in/NorthAmerica/Temp/daily/tmax/1981\n",
      "1982\n",
      "in/NorthAmerica/Temp/daily/tmax/1982\n",
      "1983\n",
      "in/NorthAmerica/Temp/daily/tmax/1983\n",
      "dev-et-data/in/NorthAmerica/Temp/daily/tmax/1983/tmax_1983062.tfw\n",
      "1984\n",
      "in/NorthAmerica/Temp/daily/tmax/1984\n",
      "1985\n",
      "in/NorthAmerica/Temp/daily/tmax/1985\n",
      "1986\n",
      "in/NorthAmerica/Temp/daily/tmax/1986\n",
      "1987\n",
      "in/NorthAmerica/Temp/daily/tmax/1987\n",
      "1988\n",
      "in/NorthAmerica/Temp/daily/tmax/1988\n",
      "1989\n",
      "in/NorthAmerica/Temp/daily/tmax/1989\n",
      "1990\n",
      "in/NorthAmerica/Temp/daily/tmax/1990\n",
      "1991\n",
      "in/NorthAmerica/Temp/daily/tmax/1991\n",
      "1992\n",
      "in/NorthAmerica/Temp/daily/tmax/1992\n",
      "1993\n",
      "in/NorthAmerica/Temp/daily/tmax/1993\n",
      "1994\n",
      "in/NorthAmerica/Temp/daily/tmax/1994\n",
      "1995\n",
      "in/NorthAmerica/Temp/daily/tmax/1995\n",
      "1996\n",
      "in/NorthAmerica/Temp/daily/tmax/1996\n",
      "1997\n",
      "in/NorthAmerica/Temp/daily/tmax/1997\n",
      "1998\n",
      "in/NorthAmerica/Temp/daily/tmax/1998\n",
      "1999\n",
      "in/NorthAmerica/Temp/daily/tmax/1999\n",
      "dev-et-data/in/NorthAmerica/Temp/daily/tmax/1999/tmax_1999330.tfw\n",
      "2000\n",
      "in/NorthAmerica/Temp/daily/tmax/2000\n",
      "2001\n",
      "in/NorthAmerica/Temp/daily/tmax/2001\n",
      "2002\n",
      "in/NorthAmerica/Temp/daily/tmax/2002\n",
      "2003\n",
      "in/NorthAmerica/Temp/daily/tmax/2003\n",
      "2004\n",
      "in/NorthAmerica/Temp/daily/tmax/2004\n",
      "2005\n",
      "in/NorthAmerica/Temp/daily/tmax/2005\n",
      "2006\n",
      "in/NorthAmerica/Temp/daily/tmax/2006\n",
      "dev-et-data/in/NorthAmerica/Temp/daily/tmax/2006/tmax_2006207.tif\n",
      "2007\n",
      "in/NorthAmerica/Temp/daily/tmax/2007\n",
      "2008\n",
      "in/NorthAmerica/Temp/daily/tmax/2008\n",
      "dev-et-data/in/NorthAmerica/Temp/daily/tmax/2008/tmax_2008007.tif\n",
      "2009\n",
      "in/NorthAmerica/Temp/daily/tmax/2009\n",
      "2010\n",
      "in/NorthAmerica/Temp/daily/tmax/2010\n",
      "2011\n",
      "in/NorthAmerica/Temp/daily/tmax/2011\n",
      "2012\n",
      "in/NorthAmerica/Temp/daily/tmax/2012\n",
      "2013\n",
      "in/NorthAmerica/Temp/daily/tmax/2013\n",
      "2014\n",
      "in/NorthAmerica/Temp/daily/tmax/2014\n",
      "2015\n",
      "in/NorthAmerica/Temp/daily/tmax/2015\n",
      "2016\n",
      "in/NorthAmerica/Temp/daily/tmax/2016\n",
      "2017\n",
      "in/NorthAmerica/Temp/daily/tmax/2017\n",
      "2018\n",
      "in/NorthAmerica/Temp/daily/tmax/2018\n",
      "dev-et-data/in/NorthAmerica/Temp/daily/tmax/2018/tmax_2018176.tfw\n",
      "2019\n",
      "in/NorthAmerica/Temp/daily/tmax/2019\n"
     ]
    },
    {
     "data": {
      "text/plain": [
       "['dev-et-data/in/NorthAmerica/Temp/daily/tmax/1980/tmax_1980241.tfw',\n",
       " 'dev-et-data/in/NorthAmerica/Temp/daily/tmax/1983/tmax_1983062.tfw',\n",
       " 'dev-et-data/in/NorthAmerica/Temp/daily/tmax/1999/tmax_1999330.tfw',\n",
       " 'dev-et-data/in/NorthAmerica/Temp/daily/tmax/2006/tmax_2006207.tif',\n",
       " 'dev-et-data/in/NorthAmerica/Temp/daily/tmax/2008/tmax_2008007.tif',\n",
       " 'dev-et-data/in/NorthAmerica/Temp/daily/tmax/2018/tmax_2018176.tfw']"
      ]
     },
     "execution_count": 26,
     "metadata": {},
     "output_type": "execute_result"
    }
   ],
   "source": [
    "years = range(1980,2020)\n",
    "\n",
    "tmax_list = []\n",
    "for year in years:\n",
    "    print(year)\n",
    "    prefix=f'in/NorthAmerica/Temp/daily/tmax/{year}'\n",
    "    print(prefix)\n",
    "    the_list = return_s3_list(working_bucket, prefix)\n",
    "    bb_list = print_badboys(the_list)\n",
    "    for item in bb_list:\n",
    "        tmax_list.append(item)\n",
    "\n",
    "tmax_list"
   ]
  },
  {
   "cell_type": "code",
   "execution_count": 28,
   "metadata": {},
   "outputs": [],
   "source": [
    "badboy_list =[]\n",
    "for item in (tmin_list + tmax_list + tavg_list):\n",
    "    badboy_list.append(item)"
   ]
  },
  {
   "cell_type": "code",
   "execution_count": 29,
   "metadata": {},
   "outputs": [
    {
     "data": {
      "text/plain": [
       "['dev-et-data/in/NorthAmerica/Temp/daily/tmin/1988/tmin_1988317.tif.ovr',\n",
       " 'dev-et-data/in/NorthAmerica/Temp/daily/tmin/2002/tmin_2002183.tif.ovr',\n",
       " 'dev-et-data/in/NorthAmerica/Temp/daily/tmin/2004/tmin_2004115.tif.aux.xml',\n",
       " 'dev-et-data/in/NorthAmerica/Temp/daily/tmin/2006/tmin_2006289.tif.xml',\n",
       " 'dev-et-data/in/NorthAmerica/Temp/daily/tmin/2014/tmin_2014250.tif.aux.xml',\n",
       " 'dev-et-data/in/NorthAmerica/Temp/daily/tmin/2017/tmin_2017143.tif',\n",
       " 'dev-et-data/in/NorthAmerica/Temp/daily/tmax/1980/tmax_1980241.tfw',\n",
       " 'dev-et-data/in/NorthAmerica/Temp/daily/tmax/1983/tmax_1983062.tfw',\n",
       " 'dev-et-data/in/NorthAmerica/Temp/daily/tmax/1999/tmax_1999330.tfw',\n",
       " 'dev-et-data/in/NorthAmerica/Temp/daily/tmax/2006/tmax_2006207.tif',\n",
       " 'dev-et-data/in/NorthAmerica/Temp/daily/tmax/2008/tmax_2008007.tif',\n",
       " 'dev-et-data/in/NorthAmerica/Temp/daily/tmax/2018/tmax_2018176.tfw',\n",
       " 'dev-et-data/in/NorthAmerica/Temp/daily/tavg/1987/tavg_1987119.tif',\n",
       " 'dev-et-data/in/NorthAmerica/Temp/daily/tavg/1995/tavg_1995094.tif',\n",
       " 'dev-et-data/in/NorthAmerica/Temp/daily/tavg/1995/tavg_1995304.tif.aux.xml',\n",
       " 'dev-et-data/in/NorthAmerica/Temp/daily/tavg/1996/tavg_1996170.tif',\n",
       " 'dev-et-data/in/NorthAmerica/Temp/daily/tavg/2002/tavg_2002267.tif',\n",
       " 'dev-et-data/in/NorthAmerica/Temp/daily/tavg/2004/tavg_2004302.tif',\n",
       " 'dev-et-data/in/NorthAmerica/Temp/daily/tavg/2004/tavg_2004362.tfw',\n",
       " 'dev-et-data/in/NorthAmerica/Temp/daily/tavg/2006/tavg_2006356.tif',\n",
       " 'dev-et-data/in/NorthAmerica/Temp/daily/tavg/2008/tavg_2008224.tif']"
      ]
     },
     "execution_count": 29,
     "metadata": {},
     "output_type": "execute_result"
    }
   ],
   "source": [
    "badboy_list"
   ]
  },
  {
   "cell_type": "code",
   "execution_count": 32,
   "metadata": {},
   "outputs": [
    {
     "name": "stdout",
     "output_type": "stream",
     "text": [
      "scp -i ~/.ssh/CHS-LSDSDPAS-butzer.pem /cygdrive/w/Data/Temperature/NorthAmerica/Daymet_Gridmet_mosaic/tmin/1988/tmin_1988317.tif.ovr ubuntu@10.12.68.246:/opt/et_data/in/NorthAmerica/Temp/daily/tmin/1988/tmin_1988317.tif.ovr\n",
      "scp -i ~/.ssh/CHS-LSDSDPAS-butzer.pem /cygdrive/w/Data/Temperature/NorthAmerica/Daymet_Gridmet_mosaic/tmin/2002/tmin_2002183.tif.ovr ubuntu@10.12.68.246:/opt/et_data/in/NorthAmerica/Temp/daily/tmin/2002/tmin_2002183.tif.ovr\n",
      "scp -i ~/.ssh/CHS-LSDSDPAS-butzer.pem /cygdrive/w/Data/Temperature/NorthAmerica/Daymet_Gridmet_mosaic/tmin/2004/tmin_2004115.tif.aux.xml ubuntu@10.12.68.246:/opt/et_data/in/NorthAmerica/Temp/daily/tmin/2004/tmin_2004115.tif.aux.xml\n",
      "scp -i ~/.ssh/CHS-LSDSDPAS-butzer.pem /cygdrive/w/Data/Temperature/NorthAmerica/Daymet_Gridmet_mosaic/tmin/2006/tmin_2006289.tif.xml ubuntu@10.12.68.246:/opt/et_data/in/NorthAmerica/Temp/daily/tmin/2006/tmin_2006289.tif.xml\n",
      "scp -i ~/.ssh/CHS-LSDSDPAS-butzer.pem /cygdrive/w/Data/Temperature/NorthAmerica/Daymet_Gridmet_mosaic/tmin/2014/tmin_2014250.tif.aux.xml ubuntu@10.12.68.246:/opt/et_data/in/NorthAmerica/Temp/daily/tmin/2014/tmin_2014250.tif.aux.xml\n",
      "scp -i ~/.ssh/CHS-LSDSDPAS-butzer.pem /cygdrive/w/Data/Temperature/NorthAmerica/Daymet_Gridmet_mosaic/tmin/2017/tmin_2017143.tif ubuntu@10.12.68.246:/opt/et_data/in/NorthAmerica/Temp/daily/tmin/2017/tmin_2017143.tif\n",
      "scp -i ~/.ssh/CHS-LSDSDPAS-butzer.pem /cygdrive/w/Data/Temperature/NorthAmerica/Daymet_Gridmet_mosaic/tmax/1980/tmax_1980241.tfw ubuntu@10.12.68.246:/opt/et_data/in/NorthAmerica/Temp/daily/tmax/1980/tmax_1980241.tfw\n",
      "scp -i ~/.ssh/CHS-LSDSDPAS-butzer.pem /cygdrive/w/Data/Temperature/NorthAmerica/Daymet_Gridmet_mosaic/tmax/1983/tmax_1983062.tfw ubuntu@10.12.68.246:/opt/et_data/in/NorthAmerica/Temp/daily/tmax/1983/tmax_1983062.tfw\n",
      "scp -i ~/.ssh/CHS-LSDSDPAS-butzer.pem /cygdrive/w/Data/Temperature/NorthAmerica/Daymet_Gridmet_mosaic/tmax/1999/tmax_1999330.tfw ubuntu@10.12.68.246:/opt/et_data/in/NorthAmerica/Temp/daily/tmax/1999/tmax_1999330.tfw\n",
      "scp -i ~/.ssh/CHS-LSDSDPAS-butzer.pem /cygdrive/w/Data/Temperature/NorthAmerica/Daymet_Gridmet_mosaic/tmax/2006/tmax_2006207.tif ubuntu@10.12.68.246:/opt/et_data/in/NorthAmerica/Temp/daily/tmax/2006/tmax_2006207.tif\n",
      "scp -i ~/.ssh/CHS-LSDSDPAS-butzer.pem /cygdrive/w/Data/Temperature/NorthAmerica/Daymet_Gridmet_mosaic/tmax/2008/tmax_2008007.tif ubuntu@10.12.68.246:/opt/et_data/in/NorthAmerica/Temp/daily/tmax/2008/tmax_2008007.tif\n",
      "scp -i ~/.ssh/CHS-LSDSDPAS-butzer.pem /cygdrive/w/Data/Temperature/NorthAmerica/Daymet_Gridmet_mosaic/tmax/2018/tmax_2018176.tfw ubuntu@10.12.68.246:/opt/et_data/in/NorthAmerica/Temp/daily/tmax/2018/tmax_2018176.tfw\n",
      "scp -i ~/.ssh/CHS-LSDSDPAS-butzer.pem /cygdrive/w/Data/Temperature/NorthAmerica/Daymet_Gridmet_mosaic/tavg/1987/tavg_1987119.tif ubuntu@10.12.68.246:/opt/et_data/in/NorthAmerica/Temp/daily/tavg/1987/tavg_1987119.tif\n",
      "scp -i ~/.ssh/CHS-LSDSDPAS-butzer.pem /cygdrive/w/Data/Temperature/NorthAmerica/Daymet_Gridmet_mosaic/tavg/1995/tavg_1995094.tif ubuntu@10.12.68.246:/opt/et_data/in/NorthAmerica/Temp/daily/tavg/1995/tavg_1995094.tif\n",
      "scp -i ~/.ssh/CHS-LSDSDPAS-butzer.pem /cygdrive/w/Data/Temperature/NorthAmerica/Daymet_Gridmet_mosaic/tavg/1995/tavg_1995304.tif.aux.xml ubuntu@10.12.68.246:/opt/et_data/in/NorthAmerica/Temp/daily/tavg/1995/tavg_1995304.tif.aux.xml\n",
      "scp -i ~/.ssh/CHS-LSDSDPAS-butzer.pem /cygdrive/w/Data/Temperature/NorthAmerica/Daymet_Gridmet_mosaic/tavg/1996/tavg_1996170.tif ubuntu@10.12.68.246:/opt/et_data/in/NorthAmerica/Temp/daily/tavg/1996/tavg_1996170.tif\n",
      "scp -i ~/.ssh/CHS-LSDSDPAS-butzer.pem /cygdrive/w/Data/Temperature/NorthAmerica/Daymet_Gridmet_mosaic/tavg/2002/tavg_2002267.tif ubuntu@10.12.68.246:/opt/et_data/in/NorthAmerica/Temp/daily/tavg/2002/tavg_2002267.tif\n",
      "scp -i ~/.ssh/CHS-LSDSDPAS-butzer.pem /cygdrive/w/Data/Temperature/NorthAmerica/Daymet_Gridmet_mosaic/tavg/2004/tavg_2004302.tif ubuntu@10.12.68.246:/opt/et_data/in/NorthAmerica/Temp/daily/tavg/2004/tavg_2004302.tif\n",
      "scp -i ~/.ssh/CHS-LSDSDPAS-butzer.pem /cygdrive/w/Data/Temperature/NorthAmerica/Daymet_Gridmet_mosaic/tavg/2004/tavg_2004362.tfw ubuntu@10.12.68.246:/opt/et_data/in/NorthAmerica/Temp/daily/tavg/2004/tavg_2004362.tfw\n",
      "scp -i ~/.ssh/CHS-LSDSDPAS-butzer.pem /cygdrive/w/Data/Temperature/NorthAmerica/Daymet_Gridmet_mosaic/tavg/2006/tavg_2006356.tif ubuntu@10.12.68.246:/opt/et_data/in/NorthAmerica/Temp/daily/tavg/2006/tavg_2006356.tif\n",
      "scp -i ~/.ssh/CHS-LSDSDPAS-butzer.pem /cygdrive/w/Data/Temperature/NorthAmerica/Daymet_Gridmet_mosaic/tavg/2008/tavg_2008224.tif ubuntu@10.12.68.246:/opt/et_data/in/NorthAmerica/Temp/daily/tavg/2008/tavg_2008224.tif\n"
     ]
    }
   ],
   "source": [
    "s3_root = 'dev-et-data/in/NorthAmerica/Temp/daily/'\n",
    "s3fs_root = '/opt/et_data/in/NorthAmerica/Temp/daily/'\n",
    "water_root = '/cygdrive/w/Data/Temperature/NorthAmerica/Daymet_Gridmet_mosaic'\n",
    "for item in badboy_list:\n",
    "    file_info = item.replace(s3_root,'')\n",
    "    #print(file_info)\n",
    "    cmd = 'scp -i ~/.ssh/CHS-LSDSDPAS-butzer.pem '\n",
    "    send_file = water_root + '/' + file_info\n",
    "    dst_path = ' ubuntu@10.12.68.246:' + s3fs_root + file_info\n",
    "    cmd = cmd + send_file + dst_path\n",
    "    print(cmd)"
   ]
  },
  {
   "cell_type": "code",
   "execution_count": null,
   "metadata": {},
   "outputs": [],
   "source": []
  }
 ],
 "metadata": {
  "kernelspec": {
   "display_name": "Python 3",
   "language": "python",
   "name": "python3"
  },
  "language_info": {
   "codemirror_mode": {
    "name": "ipython",
    "version": 3
   },
   "file_extension": ".py",
   "mimetype": "text/x-python",
   "name": "python",
   "nbconvert_exporter": "python",
   "pygments_lexer": "ipython3",
   "version": "3.7.3"
  }
 },
 "nbformat": 4,
 "nbformat_minor": 4
}

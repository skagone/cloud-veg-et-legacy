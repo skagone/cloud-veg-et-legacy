{
 "cells": [
  {
   "cell_type": "code",
   "execution_count": 1,
   "metadata": {},
   "outputs": [],
   "source": [
    "import boto3"
   ]
  },
  {
   "cell_type": "code",
   "execution_count": 2,
   "metadata": {},
   "outputs": [],
   "source": [
    "def return_s3_list(working_bucket, prefix):\n",
    "        aws_list = []\n",
    "        s3 = boto3.resource('s3')\n",
    "        bucket_name = working_bucket\n",
    "        bucket = s3.Bucket(bucket_name)\n",
    "        for obj in bucket.objects.filter(Prefix=prefix):\n",
    "            obj_key = obj.key\n",
    "            obj_key = working_bucket + '/' + obj_key\n",
    "            aws_list.append((obj_key, obj.size))\n",
    "        return aws_list"
   ]
  },
  {
   "cell_type": "code",
   "execution_count": 3,
   "metadata": {},
   "outputs": [],
   "source": [
    "working_bucket='dev-et-data'\n",
    "prefix='in/NorthAmerica/Temp/daily/tavg/1995'\n",
    "\n",
    "the_list = return_s3_list(working_bucket, prefix)"
   ]
  },
  {
   "cell_type": "code",
   "execution_count": 4,
   "metadata": {},
   "outputs": [],
   "source": [
    "def print_badboys(the_list):\n",
    "    zero_files = []\n",
    "    for (name,len) in the_list:\n",
    "        #print(len)\n",
    "        if (len < 1000000) and (name.endswith('.tif')):\n",
    "            print(name)\n",
    "            zero_files.append(name)\n",
    "    return zero_files"
   ]
  },
  {
   "cell_type": "code",
   "execution_count": 5,
   "metadata": {},
   "outputs": [
    {
     "data": {
      "text/plain": [
       "[]"
      ]
     },
     "execution_count": 5,
     "metadata": {},
     "output_type": "execute_result"
    }
   ],
   "source": [
    "aaa = print_badboys(the_list)\n",
    "aaa"
   ]
  },
  {
   "cell_type": "code",
   "execution_count": 6,
   "metadata": {},
   "outputs": [
    {
     "name": "stdout",
     "output_type": "stream",
     "text": [
      "1995\n",
      "in/NorthAmerica/Temp/daily/tavg/1995\n",
      "1996\n",
      "in/NorthAmerica/Temp/daily/tavg/1996\n",
      "1997\n",
      "in/NorthAmerica/Temp/daily/tavg/1997\n",
      "1998\n",
      "in/NorthAmerica/Temp/daily/tavg/1998\n",
      "1999\n",
      "in/NorthAmerica/Temp/daily/tavg/1999\n"
     ]
    }
   ],
   "source": [
    "years = range(1995,2000)\n",
    "\n",
    "for year in years:\n",
    "    print(year)\n",
    "    prefix=f'in/NorthAmerica/Temp/daily/tavg/{year}'\n",
    "    print(prefix)\n",
    "    the_list = return_s3_list(working_bucket, prefix)\n",
    "    print_badboys(the_list)"
   ]
  },
  {
   "cell_type": "code",
   "execution_count": 7,
   "metadata": {},
   "outputs": [
    {
     "name": "stdout",
     "output_type": "stream",
     "text": [
      "1986\n",
      "in/NorthAmerica/Temp/daily/tmin/1986\n",
      "1987\n",
      "in/NorthAmerica/Temp/daily/tmin/1987\n",
      "1988\n",
      "in/NorthAmerica/Temp/daily/tmin/1988\n",
      "1989\n",
      "in/NorthAmerica/Temp/daily/tmin/1989\n",
      "1990\n",
      "in/NorthAmerica/Temp/daily/tmin/1990\n",
      "1991\n",
      "in/NorthAmerica/Temp/daily/tmin/1991\n",
      "1992\n",
      "in/NorthAmerica/Temp/daily/tmin/1992\n",
      "1993\n",
      "in/NorthAmerica/Temp/daily/tmin/1993\n",
      "1994\n",
      "in/NorthAmerica/Temp/daily/tmin/1994\n",
      "1995\n",
      "in/NorthAmerica/Temp/daily/tmin/1995\n",
      "1996\n",
      "in/NorthAmerica/Temp/daily/tmin/1996\n",
      "1997\n",
      "in/NorthAmerica/Temp/daily/tmin/1997\n",
      "1998\n",
      "in/NorthAmerica/Temp/daily/tmin/1998\n",
      "1999\n",
      "in/NorthAmerica/Temp/daily/tmin/1999\n"
     ]
    }
   ],
   "source": [
    "years = range(1986,2000)\n",
    "\n",
    "for year in years:\n",
    "    print(year)\n",
    "    prefix=f'in/NorthAmerica/Temp/daily/tmin/{year}'\n",
    "    print(prefix)\n",
    "    the_list = return_s3_list(working_bucket, prefix)\n",
    "    print_badboys(the_list)"
   ]
  },
  {
   "cell_type": "code",
   "execution_count": 8,
   "metadata": {},
   "outputs": [
    {
     "name": "stdout",
     "output_type": "stream",
     "text": [
      "1980\n",
      "1981\n",
      "1982\n",
      "1983\n",
      "1984\n",
      "1985\n",
      "1986\n",
      "1987\n",
      "1988\n",
      "1989\n",
      "1990\n",
      "1991\n",
      "1992\n",
      "1993\n",
      "1994\n",
      "1995\n",
      "1996\n",
      "1997\n",
      "1998\n",
      "1999\n",
      "2000\n",
      "2001\n",
      "2002\n",
      "2003\n",
      "2004\n",
      "2005\n",
      "2006\n",
      "2007\n",
      "2008\n",
      "2009\n",
      "2010\n",
      "2011\n",
      "2012\n",
      "2013\n",
      "2014\n",
      "2015\n",
      "2016\n",
      "2017\n",
      "2018\n",
      "2019\n"
     ]
    }
   ],
   "source": [
    "years = range(1980,2020)\n",
    "\n",
    "tmin_list = []\n",
    "for year in years:\n",
    "    print(year)\n",
    "    prefix=f'in/NorthAmerica/Temp/daily/tmin/{year}'\n",
    "    #print(prefix)\n",
    "    the_list = return_s3_list(working_bucket, prefix)\n",
    "    bb_list = print_badboys(the_list)\n",
    "    for item in bb_list:\n",
    "        tmin_list.append(item)"
   ]
  },
  {
   "cell_type": "code",
   "execution_count": 9,
   "metadata": {},
   "outputs": [
    {
     "data": {
      "text/plain": [
       "[]"
      ]
     },
     "execution_count": 9,
     "metadata": {},
     "output_type": "execute_result"
    }
   ],
   "source": [
    "tmin_list"
   ]
  },
  {
   "cell_type": "code",
   "execution_count": 10,
   "metadata": {},
   "outputs": [
    {
     "name": "stdout",
     "output_type": "stream",
     "text": [
      "1980\n",
      "1981\n",
      "1982\n",
      "1983\n",
      "1984\n",
      "1985\n",
      "1986\n",
      "1987\n",
      "1988\n",
      "1989\n",
      "1990\n",
      "1991\n",
      "1992\n",
      "1993\n",
      "1994\n",
      "1995\n",
      "1996\n",
      "1997\n",
      "1998\n",
      "1999\n",
      "2000\n",
      "2001\n",
      "2002\n",
      "2003\n",
      "2004\n",
      "2005\n",
      "2006\n",
      "2007\n",
      "2008\n",
      "2009\n",
      "2010\n",
      "2011\n",
      "2012\n",
      "2013\n",
      "2014\n",
      "2015\n",
      "2016\n",
      "2017\n",
      "2018\n",
      "2019\n"
     ]
    },
    {
     "data": {
      "text/plain": [
       "[]"
      ]
     },
     "execution_count": 10,
     "metadata": {},
     "output_type": "execute_result"
    }
   ],
   "source": [
    "years = range(1980,2020)\n",
    "\n",
    "tavg_list = []\n",
    "for year in years:\n",
    "    print(year)\n",
    "    prefix=f'in/NorthAmerica/Temp/daily/tavg/{year}'\n",
    "    #print(prefix)\n",
    "    the_list = return_s3_list(working_bucket, prefix)\n",
    "    bb_list = print_badboys(the_list)\n",
    "    for item in bb_list:\n",
    "        tavg_list.append(item)\n",
    "\n",
    "tavg_list"
   ]
  },
  {
   "cell_type": "code",
   "execution_count": 11,
   "metadata": {},
   "outputs": [
    {
     "name": "stdout",
     "output_type": "stream",
     "text": [
      "1980\n",
      "1981\n",
      "1982\n",
      "1983\n",
      "1984\n",
      "1985\n",
      "1986\n",
      "1987\n",
      "1988\n",
      "1989\n",
      "1990\n",
      "1991\n",
      "1992\n",
      "1993\n",
      "1994\n",
      "1995\n",
      "1996\n",
      "1997\n",
      "1998\n",
      "1999\n",
      "2000\n",
      "2001\n",
      "2002\n",
      "2003\n",
      "2004\n",
      "2005\n",
      "2006\n",
      "2007\n",
      "2008\n",
      "2009\n",
      "2010\n",
      "2011\n",
      "2012\n",
      "2013\n",
      "2014\n",
      "dev-et-data/in/NorthAmerica/Temp/daily/tmax/2014/tmax_2014322.tif\n",
      "2015\n",
      "2016\n",
      "2017\n",
      "2018\n",
      "2019\n"
     ]
    },
    {
     "data": {
      "text/plain": [
       "['dev-et-data/in/NorthAmerica/Temp/daily/tmax/2014/tmax_2014322.tif']"
      ]
     },
     "execution_count": 11,
     "metadata": {},
     "output_type": "execute_result"
    }
   ],
   "source": [
    "years = range(1980,2020)\n",
    "\n",
    "tmax_list = []\n",
    "for year in years:\n",
    "    print(year)\n",
    "    prefix=f'in/NorthAmerica/Temp/daily/tmax/{year}'\n",
    "    #print(prefix)\n",
    "    the_list = return_s3_list(working_bucket, prefix)\n",
    "    bb_list = print_badboys(the_list)\n",
    "    for item in bb_list:\n",
    "        tmax_list.append(item)\n",
    "\n",
    "tmax_list"
   ]
  },
  {
   "cell_type": "code",
   "execution_count": 12,
   "metadata": {},
   "outputs": [],
   "source": [
    "badboy_list =[]\n",
    "for item in (tmin_list + tmax_list + tavg_list):\n",
    "    badboy_list.append(item)"
   ]
  },
  {
   "cell_type": "code",
   "execution_count": 13,
   "metadata": {},
   "outputs": [
    {
     "data": {
      "text/plain": [
       "['dev-et-data/in/NorthAmerica/Temp/daily/tmax/2014/tmax_2014322.tif']"
      ]
     },
     "execution_count": 13,
     "metadata": {},
     "output_type": "execute_result"
    }
   ],
   "source": [
    "badboy_list"
   ]
  },
  {
   "cell_type": "code",
   "execution_count": 14,
   "metadata": {},
   "outputs": [
    {
     "name": "stdout",
     "output_type": "stream",
     "text": [
      "scp -i ~/.ssh/CHS-LSDSDPAS-butzer.pem /cygdrive/w/Data/Temperature/NorthAmerica/Daymet_Gridmet_mosaic/tmax/2014/tmax_2014322.tif ubuntu@10.12.68.246:/opt/et_data/in/NorthAmerica/Temp/daily/tmax/2014/tmax_2014322.tif\n"
     ]
    }
   ],
   "source": [
    "s3_root = 'dev-et-data/in/NorthAmerica/Temp/daily/'\n",
    "s3fs_root = '/opt/et_data/in/NorthAmerica/Temp/daily/'\n",
    "water_root = '/cygdrive/w/Data/Temperature/NorthAmerica/Daymet_Gridmet_mosaic'\n",
    "for item in badboy_list:\n",
    "    file_info = item.replace(s3_root,'')\n",
    "    #print(file_info)\n",
    "    cmd = 'scp -i ~/.ssh/CHS-LSDSDPAS-butzer.pem '\n",
    "    send_file = water_root + '/' + file_info\n",
    "    dst_path = ' ubuntu@10.12.68.246:' + s3fs_root + file_info\n",
    "    cmd = cmd + send_file + dst_path\n",
    "    print(cmd)"
   ]
  },
  {
   "cell_type": "code",
   "execution_count": 15,
   "metadata": {},
   "outputs": [
    {
     "name": "stdout",
     "output_type": "stream",
     "text": [
      "scp -i ~/.ssh/CHS-LSDSDPAS-butzer.pem /cygdrive/w/Data/Temperature/NorthAmerica/Daymet_Gridmet_mosaic/tavg/2008/tavg_2008361.tif ubuntu@10.12.68.246:/opt/et_data/in/NorthAmerica/Temp/daily/tavg/2008/tavg_2008361.tif\n"
     ]
    }
   ],
   "source": [
    "s3_root = 'dev-et-data/in/NorthAmerica/Temp/daily/'\n",
    "s3fs_root = '/opt/et_data/in/NorthAmerica/Temp/daily/'\n",
    "water_root = '/cygdrive/w/Data/Temperature/NorthAmerica/Daymet_Gridmet_mosaic'\n",
    "badboy_list=['dev-et-data/in/NorthAmerica/Temp/daily/tavg/2008/tavg_2008361.tif']\n",
    "for item in badboy_list:\n",
    "    file_info = item.replace(s3_root,'')\n",
    "    #print(file_info)\n",
    "    cmd = 'scp -i ~/.ssh/CHS-LSDSDPAS-butzer.pem '\n",
    "    send_file = water_root + '/' + file_info\n",
    "    dst_path = ' ubuntu@10.12.68.246:' + s3fs_root + file_info\n",
    "    cmd = cmd + send_file + dst_path\n",
    "    print(cmd)"
   ]
  },
  {
   "cell_type": "code",
   "execution_count": null,
   "metadata": {},
   "outputs": [],
   "source": []
  }
 ],
 "metadata": {
  "kernelspec": {
   "display_name": "Python 3",
   "language": "python",
   "name": "python3"
  },
  "language_info": {
   "codemirror_mode": {
    "name": "ipython",
    "version": 3
   },
   "file_extension": ".py",
   "mimetype": "text/x-python",
   "name": "python",
   "nbconvert_exporter": "python",
   "pygments_lexer": "ipython3",
   "version": "3.7.3"
  }
 },
 "nbformat": 4,
 "nbformat_minor": 4
}
